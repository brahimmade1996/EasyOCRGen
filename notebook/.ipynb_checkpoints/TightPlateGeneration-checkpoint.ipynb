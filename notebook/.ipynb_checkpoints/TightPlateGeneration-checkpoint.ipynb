{
 "cells": [
  {
   "cell_type": "markdown",
   "metadata": {},
   "source": [
    "# Synthetic Malaysia License Plate "
   ]
  },
  {
   "cell_type": "markdown",
   "metadata": {},
   "source": [
    "## Generate background image\n",
    "Notice the background images' size are too large for normal license plate ratio. We would crop out the plate ROI after the license plate generation."
   ]
  },
  {
   "cell_type": "code",
   "execution_count": 1,
   "metadata": {},
   "outputs": [],
   "source": [
    "from PIL import Image, ImageDraw, ImageFont\n",
    "import matplotlib.pyplot as plt"
   ]
  },
  {
   "cell_type": "code",
   "execution_count": 2,
   "metadata": {},
   "outputs": [
    {
     "data": {
      "text/plain": [
       "<matplotlib.image.AxesImage at 0x7f94b195e860>"
      ]
     },
     "execution_count": 2,
     "metadata": {},
     "output_type": "execute_result"
    },
    {
     "data": {
      "image/png": "[encoded data removed]",
      "text/plain": [
       "<Figure size 432x288 with 1 Axes>"
      ]
     },
     "metadata": {
      "needs_background": "light"
     },
     "output_type": "display_data"
    }
   ],
   "source": [
    "plate_0_background = Image.new('RGB', (400,100), (25, 25, 25))\n",
    "plt.imshow(plate_0_background)"
   ]
  },
  {
   "cell_type": "markdown",
   "metadata": {},
   "source": [
    "Save the background locally"
   ]
  },
  {
   "cell_type": "code",
   "execution_count": null,
   "metadata": {},
   "outputs": [],
   "source": [
    "plate_0_background.save('/home/tunnel/ck-research/my_1.jpg')"
   ]
  },
  {
   "cell_type": "code",
   "execution_count": 3,
   "metadata": {},
   "outputs": [
    {
     "data": {
      "text/plain": [
       "<matplotlib.image.AxesImage at 0x7f94b1878e80>"
      ]
     },
     "execution_count": 3,
     "metadata": {},
     "output_type": "execute_result"
    },
    {
     "data": {
      "image/png": "[encoded data removed]",
      "text/plain": [
       "<Figure size 432x288 with 1 Axes>"
      ]
     },
     "metadata": {
      "needs_background": "light"
     },
     "output_type": "display_data"
    }
   ],
   "source": [
    "plate_1_background = Image.new('RGB', (400,400), (25, 25, 25))\n",
    "plt.imshow(plate_1_background)"
   ]
  },
  {
   "cell_type": "markdown",
   "metadata": {},
   "source": [
    "Save the background locally"
   ]
  },
  {
   "cell_type": "code",
   "execution_count": null,
   "metadata": {},
   "outputs": [],
   "source": [
    "plate_1_background.save('/home/tunnel/ck-research/my_1_b.jpg')"
   ]
  },
  {
   "cell_type": "markdown",
   "metadata": {},
   "source": [
    "Keep both plate background in list"
   ]
  },
  {
   "cell_type": "code",
   "execution_count": 4,
   "metadata": {},
   "outputs": [],
   "source": [
    "plate_background = [plate_0_background, plate_1_background]"
   ]
  },
  {
   "cell_type": "markdown",
   "metadata": {},
   "source": [
    "## Generate license plate character\n",
    "Generate random license plate string using pillow function"
   ]
  },
  {
   "cell_type": "code",
   "execution_count": 5,
   "metadata": {},
   "outputs": [],
   "source": [
    "import random\n",
    "import urllib.request\n",
    "from zipfile import ZipFile "
   ]
  },
  {
   "cell_type": "markdown",
   "metadata": {},
   "source": [
    "Download Fonts"
   ]
  },
  {
   "cell_type": "code",
   "execution_count": 6,
   "metadata": {},
   "outputs": [],
   "source": [
    "char = chr(random.randint(65,90))\n",
    "digit = chr(random.randint(48, 57))"
   ]
  },
  {
   "cell_type": "code",
   "execution_count": 7,
   "metadata": {},
   "outputs": [],
   "source": [
    "def prefix(str_num):\n",
    "    char = str(chr(random.randint(65,90)))\n",
    "    for j in range(str_num-1):\n",
    "        char += str(chr(random.randint(65,90)))\n",
    "    return char"
   ]
  },
  {
   "cell_type": "code",
   "execution_count": 8,
   "metadata": {},
   "outputs": [],
   "source": [
    "def digits(dig_num):\n",
    "    digit = str(chr(random.randint(48,57)))\n",
    "    for j in range(2):\n",
    "        digit += str(chr(random.randint(48,57)))\n",
    "    return digit"
   ]
  },
  {
   "cell_type": "code",
   "execution_count": 9,
   "metadata": {},
   "outputs": [],
   "source": [
    "def three_prefix():\n",
    "    pfx = prefix(str_num=3)\n",
    "    digit = digits(dig_num=4)\n",
    "    plate = pfx + ' ' + digit\n",
    "    return plate"
   ]
  },
  {
   "cell_type": "code",
   "execution_count": 10,
   "metadata": {},
   "outputs": [],
   "source": [
    "def text_contruction(draw, font, text, img_w, img_h, draw_w, draw_h):\n",
    "    draw.text(xy=((((img_w - draw_w) / 2)-1), ((img_h - draw_h) / 2)-1), text=text, fill=(10, 10, 10), font=font, align=\"center\")\n",
    "    draw.text(xy=((((img_w - draw_w) / 2)+1), ((img_h - draw_h) / 2)-1), text=text, fill=(10, 10, 10), font=font, align=\"center\")\n",
    "    draw.text(xy=((((img_w - draw_w) / 2)+1), ((img_h - draw_h) / 2)+1), text=text, fill=(10, 10, 10), font=font, align=\"center\")\n",
    "    draw.text(xy=((((img_w - draw_w) / 2)-1), ((img_h - draw_h) / 2)+1), text=text, fill=(10, 10, 10), font=font, align=\"center\")\n",
    "    draw.text(xy=((img_w - draw_w) / 2, (img_h - draw_h) / 2), text=text, fill=(248, 248, 248), font=font, align=\"center\")\n",
    "    return"
   ]
  },
  {
   "cell_type": "code",
   "execution_count": 11,
   "metadata": {},
   "outputs": [],
   "source": [
    " def plate_image(plate):\n",
    "    background = random.choice(plate_background)\n",
    "    img = background\n",
    "    img_w, img_h = img.size\n",
    "    font_ = \"/home/EasyOCRGen/fonts/msia/Arial_Condensed_Bold.ttf\"\n",
    "    # print(len(chr(plate[word_index])))\n",
    "    font = ImageFont.truetype(font=font_, size=18)\n",
    "    draw = ImageDraw.Draw(img)\n",
    "    draw_w, draw_h = draw.textsize(plate, font=font)\n",
    "    if img_w / img_h > 2:\n",
    "        text_contruction(draw, font, plate, img_w, img_h, draw_w, draw_h)\n",
    "        # draw.text(xy=((img_w-draw_w)/2, (img_h-draw_h)/2), text=plate[word_index], font=font, align=\"center\")\n",
    "    else:\n",
    "        plate1 = plate.split(maxsplit=1)[0] + '\\n' + plate.split(maxsplit=1)[1]\n",
    "        text_contruction(draw, font, plate1, img_w, img_h, draw_w, draw_h)\n",
    "        # draw.text(xy=((img_w - draw_w) / 2, (img_h - draw_h) / 2), text=plate[word_index], font=font,\n",
    "        #           align=\"center\")\n",
    "        \n",
    "    return img"
   ]
  },
  {
   "cell_type": "code",
   "execution_count": 12,
   "metadata": {},
   "outputs": [
    {
     "data": {
      "text/plain": [
       "<matplotlib.image.AxesImage at 0x7f94b176d978>"
      ]
     },
     "execution_count": 12,
     "metadata": {},
     "output_type": "execute_result"
    },
    {
     "data": {
      "image/png": "[encoded data removed]",
      "text/plain": [
       "<Figure size 432x288 with 1 Axes>"
      ]
     },
     "metadata": {
      "needs_background": "light"
     },
     "output_type": "display_data"
    }
   ],
   "source": [
    "plate = three_prefix()\n",
    "img = plate_image(plate)\n",
    "plt.imshow(img)"
   ]
  },
  {
   "cell_type": "markdown",
   "metadata": {},
   "source": [
    "# Crop out license plate ROI\n",
    "To crop out the ROI region of the oversized license plate"
   ]
  },
  {
   "cell_type": "code",
   "execution_count": 13,
   "metadata": {
    "scrolled": true
   },
   "outputs": [],
   "source": [
    "import cv2\n",
    "import matplotlib.pyplot as plt\n",
    "import numpy as np\n",
    "from imgaug import augmenters as iaa"
   ]
  },
  {
   "cell_type": "markdown",
   "metadata": {},
   "source": [
    "Convert RGB to BGR. BGR is OpenCV image channel sequence."
   ]
  },
  {
   "cell_type": "code",
   "execution_count": 14,
   "metadata": {},
   "outputs": [],
   "source": [
    "img = cv2.cvtColor(np.array(img), cv2.COLOR_RGB2BGR)"
   ]
  },
  {
   "cell_type": "code",
   "execution_count": 15,
   "metadata": {},
   "outputs": [],
   "source": [
    "img_y, img_x, img_c = img.shape"
   ]
  },
  {
   "cell_type": "markdown",
   "metadata": {},
   "source": [
    "## Data Augmentation: Image perspective transform\n",
    "Simulate different view point of the camera to the license plate in real world "
   ]
  },
  {
   "cell_type": "code",
   "execution_count": 16,
   "metadata": {},
   "outputs": [],
   "source": [
    "def img_pers_trans(img, p1=0.1, p2=0.1):\n",
    "    seq = iaa.Sequential([iaa.PerspectiveTransform(scale = (p1,p2), deterministic = True, keep_size = True)])\n",
    "    img_aug = seq.augment_image(img)\n",
    "    return img_aug"
   ]
  },
  {
   "cell_type": "code",
   "execution_count": 17,
   "metadata": {},
   "outputs": [
    {
     "data": {
      "text/plain": [
       "<matplotlib.image.AxesImage at 0x7f948595c588>"
      ]
     },
     "execution_count": 17,
     "metadata": {},
     "output_type": "execute_result"
    },
    {
     "data": {
      "image/png": "[encoded data removed]",
      "text/plain": [
       "<Figure size 432x288 with 1 Axes>"
      ]
     },
     "metadata": {
      "needs_background": "light"
     },
     "output_type": "display_data"
    }
   ],
   "source": [
    "img = img_pers_trans(img)\n",
    "plt.imshow(img)"
   ]
  },
  {
   "cell_type": "markdown",
   "metadata": {},
   "source": [
    "## Finding the contours of ROI\n",
    "First we dilate (Black background) with small kernel and high iteration, for a more precise contour around the character. Compare all pair **'X'** and **'Y'** of contour. Assuming the **top left point is the smallest X and Y** and the **bottom right point is the biggest X and Y**. "
   ]
  },
  {
   "cell_type": "code",
   "execution_count": 18,
   "metadata": {},
   "outputs": [],
   "source": [
    "def dilate(img):\n",
    "    kernel = np.ones((3,3), np.uint8)\n",
    "    img_roi = cv2.dilate(img, kernel, iterations=7)\n",
    "    return img_roi"
   ]
  },
  {
   "cell_type": "code",
   "execution_count": 19,
   "metadata": {},
   "outputs": [
    {
     "data": {
      "text/plain": [
       "<matplotlib.image.AxesImage at 0x7f948593e470>"
      ]
     },
     "execution_count": 19,
     "metadata": {},
     "output_type": "execute_result"
    },
    {
     "data": {
      "image/png": "[encoded data removed]",
      "text/plain": [
       "<Figure size 432x288 with 1 Axes>"
      ]
     },
     "metadata": {
      "needs_background": "light"
     },
     "output_type": "display_data"
    }
   ],
   "source": [
    "img_roi = dilate(img)\n",
    "plt.imshow(img_roi)"
   ]
  },
  {
   "cell_type": "markdown",
   "metadata": {},
   "source": [
    "### Grayscale, Thresholding & Contours\n",
    "Standard practice of finding image contours: Apply thresholding."
   ]
  },
  {
   "cell_type": "code",
   "execution_count": 20,
   "metadata": {},
   "outputs": [],
   "source": [
    "imgray = cv2.cvtColor(img_roi, cv2.COLOR_BGR2GRAY)\n",
    "ret, thresh = cv2.threshold(imgray, 127, 255, cv2.THRESH_BINARY)\n",
    "contours, hierachy = cv2.findContours(thresh, cv2.RETR_TREE, cv2.CHAIN_APPROX_SIMPLE)"
   ]
  },
  {
   "cell_type": "code",
   "execution_count": 21,
   "metadata": {},
   "outputs": [
    {
     "data": {
      "text/plain": [
       "[array([[[149,  34]],\n",
       " \n",
       "        [[149,  44]],\n",
       " \n",
       "        [[148,  45]],\n",
       " \n",
       "        [[148,  61]],\n",
       " \n",
       "        [[149,  62]],\n",
       " \n",
       "        [[149,  63]],\n",
       " \n",
       "        [[205,  63]],\n",
       " \n",
       "        [[206,  64]],\n",
       " \n",
       "        [[229,  64]],\n",
       " \n",
       "        [[229,  62]],\n",
       " \n",
       "        [[230,  61]],\n",
       " \n",
       "        [[230,  58]],\n",
       " \n",
       "        [[231,  57]],\n",
       " \n",
       "        [[231,  55]],\n",
       " \n",
       "        [[232,  54]],\n",
       " \n",
       "        [[232,  53]],\n",
       " \n",
       "        [[233,  52]],\n",
       " \n",
       "        [[233,  36]],\n",
       " \n",
       "        [[221,  36]],\n",
       " \n",
       "        [[220,  35]],\n",
       " \n",
       "        [[197,  35]],\n",
       " \n",
       "        [[196,  36]],\n",
       " \n",
       "        [[195,  35]],\n",
       " \n",
       "        [[169,  35]],\n",
       " \n",
       "        [[168,  34]]], dtype=int32)]"
      ]
     },
     "execution_count": 21,
     "metadata": {},
     "output_type": "execute_result"
    }
   ],
   "source": [
    "contours"
   ]
  },
  {
   "cell_type": "code",
   "execution_count": 22,
   "metadata": {},
   "outputs": [],
   "source": [
    "con = cv2.drawContours(img_roi, contours, -1, (0, 0, 255), 3)"
   ]
  },
  {
   "cell_type": "code",
   "execution_count": 23,
   "metadata": {},
   "outputs": [
    {
     "data": {
      "text/plain": [
       "<matplotlib.image.AxesImage at 0x7f948589e438>"
      ]
     },
     "execution_count": 23,
     "metadata": {},
     "output_type": "execute_result"
    },
    {
     "data": {
      "image/png": "[encoded data removed]",
      "text/plain": [
       "<Figure size 432x288 with 1 Axes>"
      ]
     },
     "metadata": {
      "needs_background": "light"
     },
     "output_type": "display_data"
    }
   ],
   "source": [
    "plt.imshow(con)"
   ]
  },
  {
   "cell_type": "code",
   "execution_count": 24,
   "metadata": {},
   "outputs": [
    {
     "data": {
      "text/plain": [
       "<matplotlib.image.AxesImage at 0x7f948587a0f0>"
      ]
     },
     "execution_count": 24,
     "metadata": {},
     "output_type": "execute_result"
    },
    {
     "data": {
      "image/png": "[encoded data removed]",
      "text/plain": [
       "<Figure size 432x288 with 1 Axes>"
      ]
     },
     "metadata": {
      "needs_background": "light"
     },
     "output_type": "display_data"
    }
   ],
   "source": [
    "plt.imshow(imgray)"
   ]
  },
  {
   "cell_type": "code",
   "execution_count": 25,
   "metadata": {},
   "outputs": [
    {
     "data": {
      "text/plain": [
       "<matplotlib.image.AxesImage at 0x7f94857d2ef0>"
      ]
     },
     "execution_count": 25,
     "metadata": {},
     "output_type": "execute_result"
    },
    {
     "data": {
      "image/png": "[encoded data removed]",
      "text/plain": [
       "<Figure size 432x288 with 1 Axes>"
      ]
     },
     "metadata": {
      "needs_background": "light"
     },
     "output_type": "display_data"
    }
   ],
   "source": [
    "plt.imshow(thresh)"
   ]
  },
  {
   "cell_type": "markdown",
   "metadata": {},
   "source": [
    "### Select suitable contours\n",
    "There are usually more than one contour in a image. Since roi drew from erode/dilate has more complicated shape from the others, we select the contour with more points as our target contour. "
   ]
  },
  {
   "cell_type": "code",
   "execution_count": 26,
   "metadata": {},
   "outputs": [],
   "source": [
    "def contour_hunter(contours):\n",
    "    con = []\n",
    "    con_count = len(contours)\n",
    "    for count, point in enumerate(contours):\n",
    "        print('Contour count: {}'.format(count))\n",
    "        print('Contour points: {}'.format(len(point)))\n",
    "        con.append(len(point))\n",
    "    target_con = np.argmax(con)\n",
    "    return target_con"
   ]
  },
  {
   "cell_type": "code",
   "execution_count": 27,
   "metadata": {},
   "outputs": [
    {
     "name": "stdout",
     "output_type": "stream",
     "text": [
      "Contour count: 0\n",
      "Contour points: 25\n"
     ]
    }
   ],
   "source": [
    "con_points = []\n",
    "x_points = []\n",
    "y_points = []\n",
    "target_contour = contour_hunter(contours)\n",
    "\n",
    "for x in contours[target_contour]:\n",
    "    add = np.sum(x)\n",
    "    y_points.append(x[0][1])\n",
    "    x_points.append(x[0][0])\n",
    "    con_points.append(add)"
   ]
  },
  {
   "cell_type": "markdown",
   "metadata": {},
   "source": [
    "## Finding actual cutting point of ROI\n",
    "Find the actual smallest and biggest X and Y from the contour."
   ]
  },
  {
   "cell_type": "code",
   "execution_count": 28,
   "metadata": {},
   "outputs": [
    {
     "data": {
      "text/plain": [
       "(148, 233, 34, 64)"
      ]
     },
     "execution_count": 28,
     "metadata": {},
     "output_type": "execute_result"
    }
   ],
   "source": [
    "x_min_abs = x_points[np.argmin(x_points)]\n",
    "x_max_abs = x_points[np.argmax(x_points)]\n",
    "y_min_abs = y_points[np.argmin(y_points)]\n",
    "y_max_abs = y_points[np.argmax(y_points)]\n",
    "x_min_abs, x_max_abs, y_min_abs, y_max_abs"
   ]
  },
  {
   "cell_type": "markdown",
   "metadata": {},
   "source": [
    "## Slice out the license plate ROI"
   ]
  },
  {
   "cell_type": "code",
   "execution_count": 29,
   "metadata": {},
   "outputs": [],
   "source": [
    "vlp_img = img[y_min_abs:y_max_abs, x_min_abs:x_max_abs]"
   ]
  },
  {
   "cell_type": "code",
   "execution_count": 30,
   "metadata": {},
   "outputs": [
    {
     "data": {
      "text/plain": [
       "<matplotlib.image.AxesImage at 0x7f94857b4eb8>"
      ]
     },
     "execution_count": 30,
     "metadata": {},
     "output_type": "execute_result"
    },
    {
     "data": {
      "image/png": "[encoded data removed]",
      "text/plain": [
       "<Figure size 432x288 with 1 Axes>"
      ]
     },
     "metadata": {
      "needs_background": "light"
     },
     "output_type": "display_data"
    }
   ],
   "source": [
    "plt.imshow(vlp_img)"
   ]
  },
  {
   "cell_type": "markdown",
   "metadata": {},
   "source": [
    "Save final plate image locally"
   ]
  },
  {
   "cell_type": "code",
   "execution_count": null,
   "metadata": {},
   "outputs": [],
   "source": [
    "cv2.imwrite('/home/tunnel/'+plate.replace(' ', '') + '.jpg', vlp_img)"
   ]
  },
  {
   "cell_type": "markdown",
   "metadata": {},
   "source": [
    "## Data Augmentation: Image channel invert\n",
    "Malaysia license plate has white and black background"
   ]
  },
  {
   "cell_type": "code",
   "execution_count": null,
   "metadata": {},
   "outputs": [],
   "source": [
    "def img_color_invert(img):\n",
    "    seq = iaa.Sequential([iaa.Invert(1, per_channel=False)])\n",
    "    img1=np.transpose(img,(2,0,1))\n",
    "    img_aug1 = seq.augment_images(img1)\n",
    "    img_aug=np.transpose(img_aug1,(1,2,0))\n",
    "    return img_aug"
   ]
  },
  {
   "cell_type": "code",
   "execution_count": null,
   "metadata": {},
   "outputs": [],
   "source": [
    "vlp_img = img_color_invert(vlp_img)\n",
    "plt.imshow(vlp_img)"
   ]
  },
  {
   "cell_type": "markdown",
   "metadata": {},
   "source": [
    "## Singularity\n",
    "Cut the double line plate into single line"
   ]
  },
  {
   "cell_type": "code",
   "execution_count": 63,
   "metadata": {},
   "outputs": [],
   "source": [
    "def singular_dilate(img):\n",
    "    kernel = np.ones((2,2), np.uint8)\n",
    "    img_roi = cv2.dilate(img, kernel, iterations=7)\n",
    "    return img_roi"
   ]
  },
  {
   "cell_type": "code",
   "execution_count": 64,
   "metadata": {},
   "outputs": [
    {
     "data": {
      "text/plain": [
       "<matplotlib.image.AxesImage at 0x7f9485378be0>"
      ]
     },
     "execution_count": 64,
     "metadata": {},
     "output_type": "execute_result"
    },
    {
     "data": {
      "image/png": "[encoded data removed]",
      "text/plain": [
       "<Figure size 432x288 with 1 Axes>"
      ]
     },
     "metadata": {
      "needs_background": "light"
     },
     "output_type": "display_data"
    }
   ],
   "source": [
    "vlp_img_roi = singular_dilate(vlp_img)\n",
    "plt.imshow(vlp_img_roi)"
   ]
  },
  {
   "cell_type": "code",
   "execution_count": 65,
   "metadata": {},
   "outputs": [],
   "source": [
    "vlp_imgray = cv2.cvtColor(vlp_img_roi, cv2.COLOR_BGR2GRAY)\n",
    "vlp_ret, vlp_thresh = cv2.threshold(vlp_imgray, 127, 255, cv2.THRESH_BINARY)\n",
    "vlp_contours, vlp_hierachy = cv2.findContours(vlp_thresh, cv2.RETR_TREE, cv2.CHAIN_APPROX_SIMPLE)"
   ]
  },
  {
   "cell_type": "code",
   "execution_count": 66,
   "metadata": {},
   "outputs": [
    {
     "data": {
      "text/plain": [
       "[array([[[ 8,  7]],\n",
       " \n",
       "        [[ 8, 17]],\n",
       " \n",
       "        [[ 7, 18]],\n",
       " \n",
       "        [[ 7, 26]],\n",
       " \n",
       "        [[ 8, 27]],\n",
       " \n",
       "        [[ 8, 28]],\n",
       " \n",
       "        [[49, 28]],\n",
       " \n",
       "        [[49, 26]],\n",
       " \n",
       "        [[50, 25]],\n",
       " \n",
       "        [[54, 25]],\n",
       " \n",
       "        [[56, 27]],\n",
       " \n",
       "        [[56, 28]],\n",
       " \n",
       "        [[63, 28]],\n",
       " \n",
       "        [[64, 27]],\n",
       " \n",
       "        [[65, 28]],\n",
       " \n",
       "        [[65, 29]],\n",
       " \n",
       "        [[80, 29]],\n",
       " \n",
       "        [[80, 27]],\n",
       " \n",
       "        [[81, 26]],\n",
       " \n",
       "        [[81, 23]],\n",
       " \n",
       "        [[82, 22]],\n",
       " \n",
       "        [[82, 20]],\n",
       " \n",
       "        [[83, 19]],\n",
       " \n",
       "        [[83, 18]],\n",
       " \n",
       "        [[84, 17]],\n",
       " \n",
       "        [[84,  9]],\n",
       " \n",
       "        [[72,  9]],\n",
       " \n",
       "        [[71,  8]],\n",
       " \n",
       "        [[65,  8]],\n",
       " \n",
       "        [[64,  9]],\n",
       " \n",
       "        [[63,  9]],\n",
       " \n",
       "        [[62,  8]],\n",
       " \n",
       "        [[56,  8]],\n",
       " \n",
       "        [[54, 10]],\n",
       " \n",
       "        [[54, 11]],\n",
       " \n",
       "        [[52, 13]],\n",
       " \n",
       "        [[52, 14]],\n",
       " \n",
       "        [[51, 15]],\n",
       " \n",
       "        [[51, 16]],\n",
       " \n",
       "        [[50, 17]],\n",
       " \n",
       "        [[50, 21]],\n",
       " \n",
       "        [[49, 22]],\n",
       " \n",
       "        [[48, 21]],\n",
       " \n",
       "        [[48, 10]],\n",
       " \n",
       "        [[46,  8]],\n",
       " \n",
       "        [[20,  8]],\n",
       " \n",
       "        [[19,  7]]], dtype=int32), array([[[72, 17]],\n",
       " \n",
       "        [[73, 16]],\n",
       " \n",
       "        [[74, 17]],\n",
       " \n",
       "        [[73, 18]]], dtype=int32)]"
      ]
     },
     "execution_count": 66,
     "metadata": {},
     "output_type": "execute_result"
    }
   ],
   "source": [
    "vlp_contours"
   ]
  },
  {
   "cell_type": "code",
   "execution_count": 67,
   "metadata": {},
   "outputs": [],
   "source": [
    "vlp_con = cv2.drawContours(vlp_img_roi, vlp_contours, -1, (0, 0, 255), 3)"
   ]
  },
  {
   "cell_type": "code",
   "execution_count": 68,
   "metadata": {},
   "outputs": [
    {
     "data": {
      "text/plain": [
       "<matplotlib.image.AxesImage at 0x7f94852d2940>"
      ]
     },
     "execution_count": 68,
     "metadata": {},
     "output_type": "execute_result"
    },
    {
     "data": {
      "image/png": "[encoded data removed]",
      "text/plain": [
       "<Figure size 432x288 with 1 Axes>"
      ]
     },
     "metadata": {
      "needs_background": "light"
     },
     "output_type": "display_data"
    }
   ],
   "source": [
    "plt.imshow(vlp_con)"
   ]
  },
  {
   "cell_type": "code",
   "execution_count": null,
   "metadata": {},
   "outputs": [],
   "source": [
    "def concat(rgb, h, w, c):\n",
    "        # smaller, the nearer\n",
    "        edge_compensate = 10\n",
    "        center_h = int(h/2)\n",
    "        h_px = int(h)\n",
    "        w_px = int(w)\n",
    "        top = rgb[0:center_h, 0:w_px]\n",
    "        bottom = rgb[center_h:h_px, 0:w_px]\n",
    "        if top.shape[0] > bottom.shape[0]:\n",
    "            diff = int(top.shape[0] - bottom.shape[0])\n",
    "            bottom = cv2.copyMakeBorder(bottom, diff, 0, 0, 0, cv2.BORDER_CONSTANT, value=(0, 0, 0))\n",
    "        elif bottom.shape[0] > top.shape[0]:\n",
    "            diff = int(bottom.shape[0] - top.shape[0])\n",
    "            top = cv2.copyMakeBorder(top, diff, 0, 0, 0, cv2.BORDER_CONSTANT, value=(0, 0, 0))\n",
    "        # print(top.shape, bottom.shape)\n",
    "        # print(h, w)\n",
    "        concat_img = np.concatenate((top, bottom), axis=1)\n",
    "        concat_h, concat_w, concat_c = concat_img.shape\n",
    "        center_concat_h = int(concat_h/2)\n",
    "        gray = cv2.cvtColor(concat_img, cv2.COLOR_BGR2GRAY)\n",
    "        _, bw_img = cv2.threshold(gray, 127, 255, cv2.THRESH_BINARY | cv2.THRESH_OTSU)\n",
    "        kernel_dilate = np.ones((3, 3), np.uint8)\n",
    "        dilate_img = cv2.dilate(bw_img, kernel_dilate, iterations=2)\n",
    "        concat_di_middle = dilate_img[center_concat_h:center_concat_h+1, 0:concat_w]\n",
    "        # normalize cv mat 255 to 1\n",
    "        concat_di_middle = cv2.normalize(concat_di_middle, None, alpha=0, beta=1, norm_type=cv2.NORM_MINMAX,\n",
    "                                         dtype=cv2.CV_32F)\n",
    "        left_edge = int((concat_w/2)-edge_compensate)\n",
    "        right_edge = int((concat_w/2)+edge_compensate)\n",
    "        white_contour = []\n",
    "        # convert cv mat to np array\n",
    "        concat_array = np.asarray(concat_di_middle[0], dtype=np.int8)\n",
    "        # find white contour location\n",
    "        for i, px in enumerate(concat_array):\n",
    "            if px == 1:\n",
    "                white_contour.append(i)\n",
    "                if len(white_contour) > 2:\n",
    "                    if (white_contour[-1] - white_contour[-2]) > 30:\n",
    "                        left_edge = white_contour[-2]\n",
    "                        right_edge = white_contour[-1]\n",
    "                        # print (white_contour[-1], white_contour[-2])\n",
    "        left = concat_img[0:concat_h, 0:left_edge+edge_compensate]\n",
    "        right = concat_img[0:concat_h, right_edge-edge_compensate:concat_w]\n",
    "        concat_img = np.concatenate((left, right), axis=1)\n",
    "        return concat_img"
   ]
  },
  {
   "cell_type": "code",
   "execution_count": null,
   "metadata": {},
   "outputs": [],
   "source": [
    "def vlp_contour_hunter(vlp_contours):\n",
    "    vlp_contour_dict = {}\n",
    "\n",
    "    for index, contour in enumerate(vlp_contours):\n",
    "        y_points = []\n",
    "        x_points = []\n",
    "        for point in contour:\n",
    "            y_points.append(point[0][1])\n",
    "            x_points.append(point[0][0])\n",
    "        vlp_contour_dict[str('y{}'.format(index))] = [int(i) for i in y_points]\n",
    "        vlp_contour_dict[str('x{}'.format(index))] = [int(i) for i in x_points]\n",
    "    print(vlp_contour_dict)\n",
    "    y0_max = vlp_contour_dict['y0'][np.argmax(vlp_contour_dict['y0'])]\n",
    "    x0_max = vlp_contour_dict['x0'][np.argmax(vlp_contour_dict['x0'])]\n",
    "    y1_min = vlp_contour_dict['y1'][np.argmin(vlp_contour_dict['y1'])]\n",
    "    x1_min = vlp_contour_dict['x1'][np.argmin(vlp_contour_dict['x1'])]\n",
    "#     decision_points = y0_max, x0_max, y1_min, x1_min\n",
    "    return y0_max, x0_max, y1_min, x1_min"
   ]
  },
  {
   "cell_type": "code",
   "execution_count": null,
   "metadata": {},
   "outputs": [],
   "source": [
    "def vlp_singularity(plate_img):\n",
    "    if plate_img is not None:\n",
    "        plate_H, plate_W, plate_C = plate_img.shape\n",
    "        if plate_W and plate_H > 0:\n",
    "            y0max, x0max, y1min, x1min = vlp_contour_hunter(vlp_contours)\n",
    "            print(y0max, x0max, y1min, x1min)\n",
    "            if y1min < y0max:\n",
    "                ocr_img = concat(plate_img, plate_H, plate_W, plate_C)\n",
    "            elif x0max < x1min:\n",
    "                ocr_img = plate_img\n",
    "#             else:\n",
    "#                 ocr_img = plate_img\n",
    "    return ocr_img\n",
    "                \n",
    "                "
   ]
  },
  {
   "cell_type": "code",
   "execution_count": null,
   "metadata": {},
   "outputs": [],
   "source": [
    "final_plate = vlp_singularity(vlp_img)\n",
    "plt.imshow(final_plate)"
   ]
  }
 ],
 "metadata": {
  "kernelspec": {
   "display_name": "Python 3",
   "language": "python",
   "name": "python3"
  },
  "language_info": {
   "codemirror_mode": {
    "name": "ipython",
    "version": 3
   },
   "file_extension": ".py",
   "mimetype": "text/x-python",
   "name": "python",
   "nbconvert_exporter": "python",
   "pygments_lexer": "ipython3",
   "version": "3.6.7"
  }
 },
 "nbformat": 4,
 "nbformat_minor": 2
}
