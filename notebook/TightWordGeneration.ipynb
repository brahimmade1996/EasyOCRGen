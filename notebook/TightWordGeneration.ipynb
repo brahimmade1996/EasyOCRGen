{
 "cells": [
  {
   "cell_type": "markdown",
   "metadata": {},
   "source": [
    "# Synthetic Malaysia License Plate "
   ]
  },
  {
   "cell_type": "markdown",
   "metadata": {},
   "source": [
    "## Generate background image\n",
    "Notice the background images' size are too large for normal license plate ratio. We would crop out the plate ROI after the license plate generation."
   ]
  },
  {
   "cell_type": "code",
   "execution_count": 1,
   "metadata": {},
   "outputs": [],
   "source": [
    "from PIL import Image, ImageDraw, ImageFont\n",
    "import matplotlib.pyplot as plt"
   ]
  },
  {
   "cell_type": "code",
   "execution_count": 2,
   "metadata": {},
   "outputs": [
    {
     "data": {
      "text/plain": [
       "<matplotlib.image.AxesImage at 0x7fd7c0a28ef0>"
      ]
     },
     "execution_count": 2,
     "metadata": {},
     "output_type": "execute_result"
    },
    {
     "data": {
      "image/png": "[encoded data removed]",
      "text/plain": [
       "<Figure size 432x288 with 1 Axes>"
      ]
     },
     "metadata": {
      "needs_background": "light"
     },
     "output_type": "display_data"
    }
   ],
   "source": [
    "plate_0_background = Image.new('RGB', (400,100), (25, 25, 25))\n",
    "plt.imshow(plate_0_background)"
   ]
  },
  {
   "cell_type": "markdown",
   "metadata": {},
   "source": [
    "Save the background locally"
   ]
  },
  {
   "cell_type": "code",
   "execution_count": 3,
   "metadata": {},
   "outputs": [],
   "source": [
    "plate_0_background.save('/home/git_local/my_1.jpg')"
   ]
  },
  {
   "cell_type": "code",
   "execution_count": 4,
   "metadata": {},
   "outputs": [
    {
     "data": {
      "text/plain": [
       "<matplotlib.image.AxesImage at 0x7fd790269ba8>"
      ]
     },
     "execution_count": 4,
     "metadata": {},
     "output_type": "execute_result"
    },
    {
     "data": {
      "image/png": "[encoded data removed]",
      "text/plain": [
       "<Figure size 432x288 with 1 Axes>"
      ]
     },
     "metadata": {
      "needs_background": "light"
     },
     "output_type": "display_data"
    }
   ],
   "source": [
    "plate_1_background = Image.new('RGB', (400,400), (25, 25, 25))\n",
    "plt.imshow(plate_1_background)"
   ]
  },
  {
   "cell_type": "markdown",
   "metadata": {},
   "source": [
    "Save the background locally"
   ]
  },
  {
   "cell_type": "code",
   "execution_count": 5,
   "metadata": {},
   "outputs": [],
   "source": [
    "plate_1_background.save('/home/git_local/my_1_c.jpg')"
   ]
  },
  {
   "cell_type": "markdown",
   "metadata": {},
   "source": [
    "Keep both plate background in list"
   ]
  },
  {
   "cell_type": "code",
   "execution_count": 4,
   "metadata": {},
   "outputs": [],
   "source": [
    "plate_background = [plate_0_background, plate_1_background]"
   ]
  },
  {
   "cell_type": "markdown",
   "metadata": {},
   "source": [
    "## Generate license plate character\n",
    "Generate random license plate string using pillow function"
   ]
  },
  {
   "cell_type": "code",
   "execution_count": 47,
   "metadata": {},
   "outputs": [],
   "source": [
    "import random\n",
    "import urllib.request\n",
    "from zipfile import ZipFile "
   ]
  },
  {
   "cell_type": "markdown",
   "metadata": {},
   "source": [
    "Download Fonts"
   ]
  },
  {
   "cell_type": "code",
   "execution_count": null,
   "metadata": {},
   "outputs": [],
   "source": [
    "url='https://dl.dafont.com/dl/?f=old_sans_black'\n",
    "data = response.read()"
   ]
  },
  {
   "cell_type": "code",
   "execution_count": 6,
   "metadata": {},
   "outputs": [],
   "source": [
    "char = chr(random.randint(65,90))\n",
    "digit = chr(random.randint(48, 57))"
   ]
  },
  {
   "cell_type": "code",
   "execution_count": 7,
   "metadata": {},
   "outputs": [],
   "source": [
    "def prefix(str_num):\n",
    "    char = str(chr(random.randint(65,90)))\n",
    "    for j in range(str_num-1):\n",
    "        char += str(chr(random.randint(65,90)))\n",
    "    return char"
   ]
  },
  {
   "cell_type": "code",
   "execution_count": 8,
   "metadata": {},
   "outputs": [],
   "source": [
    "def digits(dig_num):\n",
    "    digit = str(chr(random.randint(48,57)))\n",
    "    for j in range(2):\n",
    "        digit += str(chr(random.randint(48,57)))\n",
    "    return digit"
   ]
  },
  {
   "cell_type": "code",
   "execution_count": 9,
   "metadata": {},
   "outputs": [],
   "source": [
    "def three_prefix():\n",
    "    pfx = prefix(str_num=3)\n",
    "    digit = digits(dig_num=4)\n",
    "    plate = pfx + ' ' + digit\n",
    "    return plate"
   ]
  },
  {
   "cell_type": "code",
   "execution_count": 10,
   "metadata": {},
   "outputs": [],
   "source": [
    "def text_contruction(draw, font, text, img_w, img_h, draw_w, draw_h):\n",
    "    draw.text(xy=((((img_w - draw_w) / 2)-1), ((img_h - draw_h) / 2)-1), text=text, fill=(10, 10, 10), font=font, align=\"center\")\n",
    "    draw.text(xy=((((img_w - draw_w) / 2)+1), ((img_h - draw_h) / 2)-1), text=text, fill=(10, 10, 10), font=font, align=\"center\")\n",
    "    draw.text(xy=((((img_w - draw_w) / 2)+1), ((img_h - draw_h) / 2)+1), text=text, fill=(10, 10, 10), font=font, align=\"center\")\n",
    "    draw.text(xy=((((img_w - draw_w) / 2)-1), ((img_h - draw_h) / 2)+1), text=text, fill=(10, 10, 10), font=font, align=\"center\")\n",
    "    draw.text(xy=((img_w - draw_w) / 2, (img_h - draw_h) / 2), text=text, fill=(248, 248, 248), font=font, align=\"center\")\n",
    "    return"
   ]
  },
  {
   "cell_type": "code",
   "execution_count": 23,
   "metadata": {},
   "outputs": [],
   "source": [
    " def plate_image(plate):\n",
    "    background = random.choice(plate_background)\n",
    "    img = background\n",
    "    img_w, img_h = img.size\n",
    "    font_ = \"/home/EasyOCRGen/fonts/msia/Arial_Condensed_Bold.ttf\"\n",
    "    # print(len(chr(plate[word_index])))\n",
    "    font = ImageFont.truetype(font=font_, size=18)\n",
    "    draw = ImageDraw.Draw(img)\n",
    "    draw_w, draw_h = draw.textsize(plate, font=font)\n",
    "    if img_w / img_h > 2:\n",
    "        text_contruction(draw, font, plate, img_w, img_h, draw_w, draw_h)\n",
    "        # draw.text(xy=((img_w-draw_w)/2, (img_h-draw_h)/2), text=plate[word_index], font=font, align=\"center\")\n",
    "    else:\n",
    "        plate1 = plate.split(maxsplit=1)[0] + '\\n' + plate.split(maxsplit=1)[1]\n",
    "        text_contruction(draw, font, plate1, img_w, img_h, draw_w, draw_h)\n",
    "        # draw.text(xy=((img_w - draw_w) / 2, (img_h - draw_h) / 2), text=plate[word_index], font=font,\n",
    "        #           align=\"center\")\n",
    "        \n",
    "    return img"
   ]
  },
  {
   "cell_type": "code",
   "execution_count": 24,
   "metadata": {},
   "outputs": [
    {
     "data": {
      "text/plain": [
       "<matplotlib.image.AxesImage at 0x7f335e3ae6a0>"
      ]
     },
     "execution_count": 24,
     "metadata": {},
     "output_type": "execute_result"
    },
    {
     "data": {
      "image/png": "[encoded data removed]",
      "text/plain": [
       "<Figure size 432x288 with 1 Axes>"
      ]
     },
     "metadata": {
      "needs_background": "light"
     },
     "output_type": "display_data"
    }
   ],
   "source": [
    "plate = three_prefix()\n",
    "img = plate_image(plate)\n",
    "plt.imshow(img)"
   ]
  },
  {
   "cell_type": "markdown",
   "metadata": {},
   "source": [
    "# Crop out license plate ROI\n",
    "To crop out the ROI region of the oversized license plate"
   ]
  },
  {
   "cell_type": "code",
   "execution_count": 25,
   "metadata": {
    "scrolled": true
   },
   "outputs": [],
   "source": [
    "import cv2\n",
    "import matplotlib.pyplot as plt\n",
    "import numpy as np\n",
    "from imgaug import augmenters as iaa"
   ]
  },
  {
   "cell_type": "markdown",
   "metadata": {},
   "source": [
    "Convert RGB to BGR. BGR is OpenCV image channel sequence."
   ]
  },
  {
   "cell_type": "code",
   "execution_count": 28,
   "metadata": {},
   "outputs": [],
   "source": [
    "img = cv2.cvtColor(np.array(img), cv2.COLOR_RGB2BGR)"
   ]
  },
  {
   "cell_type": "code",
   "execution_count": 29,
   "metadata": {},
   "outputs": [],
   "source": [
    "img_y, img_x, img_c = img.shape"
   ]
  },
  {
   "cell_type": "markdown",
   "metadata": {},
   "source": [
    "## Data Augmentation: Image perspective transform\n",
    "Simulate different view point of the camera to the license plate in real world "
   ]
  },
  {
   "cell_type": "code",
   "execution_count": 30,
   "metadata": {},
   "outputs": [],
   "source": [
    "def img_pers_trans(img, p1=0.1, p2=0.1):\n",
    "    seq = iaa.Sequential([iaa.PerspectiveTransform(scale = (p1,p2), deterministic = True, keep_size = True)])\n",
    "    img_aug = seq.augment_image(img)\n",
    "    return img_aug"
   ]
  },
  {
   "cell_type": "code",
   "execution_count": 31,
   "metadata": {},
   "outputs": [
    {
     "data": {
      "text/plain": [
       "<matplotlib.image.AxesImage at 0x7f3332265c88>"
      ]
     },
     "execution_count": 31,
     "metadata": {},
     "output_type": "execute_result"
    },
    {
     "data": {
      "image/png": "[encoded data removed]",
      "text/plain": [
       "<Figure size 432x288 with 1 Axes>"
      ]
     },
     "metadata": {
      "needs_background": "light"
     },
     "output_type": "display_data"
    }
   ],
   "source": [
    "img = img_pers_trans(img)\n",
    "plt.imshow(img)"
   ]
  },
  {
   "cell_type": "markdown",
   "metadata": {},
   "source": [
    "## Finding the contours of ROI\n",
    "First we dilate (Black background) with small kernel and high iteration, for a more precise contour around the character. Compare all pair **'X'** and **'Y'** of contour. Assuming the **top left point is the smallest X and Y** and the **bottom right point is the biggest X and Y**. "
   ]
  },
  {
   "cell_type": "code",
   "execution_count": 32,
   "metadata": {},
   "outputs": [],
   "source": [
    "def dilate(img):\n",
    "    kernel = np.ones((3,3), np.uint8)\n",
    "    img_roi = cv2.dilate(img, kernel, iterations=7)\n",
    "    return img_roi"
   ]
  },
  {
   "cell_type": "code",
   "execution_count": 33,
   "metadata": {},
   "outputs": [
    {
     "data": {
      "text/plain": [
       "<matplotlib.image.AxesImage at 0x7f33321b8c88>"
      ]
     },
     "execution_count": 33,
     "metadata": {},
     "output_type": "execute_result"
    },
    {
     "data": {
      "image/png": "[encoded data removed]",
      "text/plain": [
       "<Figure size 432x288 with 1 Axes>"
      ]
     },
     "metadata": {
      "needs_background": "light"
     },
     "output_type": "display_data"
    }
   ],
   "source": [
    "img_roi = dilate(img)\n",
    "plt.imshow(img_roi)"
   ]
  },
  {
   "cell_type": "markdown",
   "metadata": {},
   "source": [
    "### Grayscale, Thresholding & Contours\n",
    "Standard practice of finding image contours: Apply thresholding."
   ]
  },
  {
   "cell_type": "code",
   "execution_count": 34,
   "metadata": {},
   "outputs": [],
   "source": [
    "imgray = cv2.cvtColor(img_roi, cv2.COLOR_BGR2GRAY)\n",
    "ret, thresh = cv2.threshold(imgray, 127, 255, cv2.THRESH_BINARY)\n",
    "contours, hierachy = cv2.findContours(thresh, cv2.RETR_TREE, cv2.CHAIN_APPROX_SIMPLE)"
   ]
  },
  {
   "cell_type": "code",
   "execution_count": 35,
   "metadata": {},
   "outputs": [
    {
     "data": {
      "text/plain": [
       "[array([[[ 80,  24]],\n",
       " \n",
       "        [[ 79,  25]],\n",
       " \n",
       "        [[ 78,  25]],\n",
       " \n",
       "        [[ 76,  27]],\n",
       " \n",
       "        [[ 76,  29]],\n",
       " \n",
       "        [[ 75,  30]],\n",
       " \n",
       "        [[ 75,  48]],\n",
       " \n",
       "        [[ 76,  49]],\n",
       " \n",
       "        [[ 76,  51]],\n",
       " \n",
       "        [[ 77,  52]],\n",
       " \n",
       "        [[ 78,  52]],\n",
       " \n",
       "        [[ 79,  53]],\n",
       " \n",
       "        [[104,  53]],\n",
       " \n",
       "        [[105,  54]],\n",
       " \n",
       "        [[143,  54]],\n",
       " \n",
       "        [[144,  55]],\n",
       " \n",
       "        [[158,  55]],\n",
       " \n",
       "        [[159,  54]],\n",
       " \n",
       "        [[160,  54]],\n",
       " \n",
       "        [[161,  53]],\n",
       " \n",
       "        [[161,  52]],\n",
       " \n",
       "        [[162,  51]],\n",
       " \n",
       "        [[162,  34]],\n",
       " \n",
       "        [[161,  33]],\n",
       " \n",
       "        [[161,  29]],\n",
       " \n",
       "        [[160,  28]],\n",
       " \n",
       "        [[160,  27]],\n",
       " \n",
       "        [[159,  27]],\n",
       " \n",
       "        [[158,  26]],\n",
       " \n",
       "        [[125,  26]],\n",
       " \n",
       "        [[124,  25]],\n",
       " \n",
       "        [[ 95,  25]],\n",
       " \n",
       "        [[ 94,  24]]], dtype=int32)]"
      ]
     },
     "execution_count": 35,
     "metadata": {},
     "output_type": "execute_result"
    }
   ],
   "source": [
    "contours"
   ]
  },
  {
   "cell_type": "code",
   "execution_count": 36,
   "metadata": {},
   "outputs": [],
   "source": [
    "con = cv2.drawContours(img_roi, contours, -1, (0, 0, 255), 3)"
   ]
  },
  {
   "cell_type": "code",
   "execution_count": 37,
   "metadata": {},
   "outputs": [
    {
     "data": {
      "text/plain": [
       "<matplotlib.image.AxesImage at 0x7f333218da58>"
      ]
     },
     "execution_count": 37,
     "metadata": {},
     "output_type": "execute_result"
    },
    {
     "data": {
      "image/png": "[encoded data removed]",
      "text/plain": [
       "<Figure size 432x288 with 1 Axes>"
      ]
     },
     "metadata": {
      "needs_background": "light"
     },
     "output_type": "display_data"
    }
   ],
   "source": [
    "plt.imshow(con)"
   ]
  },
  {
   "cell_type": "code",
   "execution_count": 38,
   "metadata": {},
   "outputs": [
    {
     "data": {
      "text/plain": [
       "<matplotlib.image.AxesImage at 0x7f333215e828>"
      ]
     },
     "execution_count": 38,
     "metadata": {},
     "output_type": "execute_result"
    },
    {
     "data": {
      "image/png": "[encoded data removed]",
      "text/plain": [
       "<Figure size 432x288 with 1 Axes>"
      ]
     },
     "metadata": {
      "needs_background": "light"
     },
     "output_type": "display_data"
    }
   ],
   "source": [
    "plt.imshow(imgray)"
   ]
  },
  {
   "cell_type": "code",
   "execution_count": 39,
   "metadata": {},
   "outputs": [
    {
     "data": {
      "text/plain": [
       "<matplotlib.image.AxesImage at 0x7f33320b36d8>"
      ]
     },
     "execution_count": 39,
     "metadata": {},
     "output_type": "execute_result"
    },
    {
     "data": {
      "image/png": "[encoded data removed]",
      "text/plain": [
       "<Figure size 432x288 with 1 Axes>"
      ]
     },
     "metadata": {
      "needs_background": "light"
     },
     "output_type": "display_data"
    }
   ],
   "source": [
    "plt.imshow(thresh)"
   ]
  },
  {
   "cell_type": "markdown",
   "metadata": {},
   "source": [
    "### Select suitable contours\n",
    "There are usually more than one contour in a image. Since roi drew from erode/dilate has more complicated shape from the others, we select the contour with more points as our target contour. "
   ]
  },
  {
   "cell_type": "code",
   "execution_count": 40,
   "metadata": {},
   "outputs": [],
   "source": [
    "def contour_hunter(contours):\n",
    "    con = []\n",
    "    con_count = len(contours)\n",
    "    for count, point in enumerate(contours):\n",
    "        print('Contour count: {}'.format(count))\n",
    "        print('Contour points: {}'.format(len(point)))\n",
    "        con.append(len(point))\n",
    "    target_con = np.argmax(con)\n",
    "    return target_con"
   ]
  },
  {
   "cell_type": "code",
   "execution_count": 41,
   "metadata": {},
   "outputs": [
    {
     "name": "stdout",
     "output_type": "stream",
     "text": [
      "Contour count: 0\n",
      "Contour points: 33\n"
     ]
    }
   ],
   "source": [
    "con_points = []\n",
    "x_points = []\n",
    "y_points = []\n",
    "target_contour = contour_hunter(contours)\n",
    "\n",
    "for x in contours[target_contour]:\n",
    "    add = np.sum(x)\n",
    "    y_points.append(x[0][1])\n",
    "    x_points.append(x[0][0])\n",
    "    con_points.append(add)"
   ]
  },
  {
   "cell_type": "markdown",
   "metadata": {},
   "source": [
    "## Finding actual cutting point of ROI\n",
    "Find the actual smallest and biggest X and Y from the contour."
   ]
  },
  {
   "cell_type": "code",
   "execution_count": 42,
   "metadata": {},
   "outputs": [
    {
     "data": {
      "text/plain": [
       "(75, 162, 24, 55)"
      ]
     },
     "execution_count": 42,
     "metadata": {},
     "output_type": "execute_result"
    }
   ],
   "source": [
    "x_min_abs = x_points[np.argmin(x_points)]\n",
    "x_max_abs = x_points[np.argmax(x_points)]\n",
    "y_min_abs = y_points[np.argmin(y_points)]\n",
    "y_max_abs = y_points[np.argmax(y_points)]\n",
    "x_min_abs, x_max_abs, y_min_abs, y_max_abs"
   ]
  },
  {
   "cell_type": "markdown",
   "metadata": {},
   "source": [
    "## Slice out the license plate ROI"
   ]
  },
  {
   "cell_type": "code",
   "execution_count": 43,
   "metadata": {},
   "outputs": [],
   "source": [
    "vlp_img = img[y_min_abs:y_max_abs, x_min_abs:x_max_abs]"
   ]
  },
  {
   "cell_type": "code",
   "execution_count": 44,
   "metadata": {},
   "outputs": [
    {
     "data": {
      "text/plain": [
       "<matplotlib.image.AxesImage at 0x7f333208a588>"
      ]
     },
     "execution_count": 44,
     "metadata": {},
     "output_type": "execute_result"
    },
    {
     "data": {
      "image/png": "[encoded data removed]",
      "text/plain": [
       "<Figure size 432x288 with 1 Axes>"
      ]
     },
     "metadata": {
      "needs_background": "light"
     },
     "output_type": "display_data"
    }
   ],
   "source": [
    "plt.imshow(vlp_img)"
   ]
  },
  {
   "cell_type": "markdown",
   "metadata": {},
   "source": [
    "Save final plate image locally"
   ]
  },
  {
   "cell_type": "code",
   "execution_count": null,
   "metadata": {},
   "outputs": [],
   "source": [
    "cv2.imwrite('/home/tunnel/'+plate.replace(' ', '') + '.jpg', vlp_img)"
   ]
  },
  {
   "cell_type": "markdown",
   "metadata": {},
   "source": [
    "## Data Augmentation: Image channel invert\n",
    "Malaysia license plate has white and black background"
   ]
  },
  {
   "cell_type": "code",
   "execution_count": null,
   "metadata": {},
   "outputs": [],
   "source": [
    "def img_color_invert(img):\n",
    "    seq = iaa.Sequential([iaa.Invert(1, per_channel=False)])\n",
    "    img1=np.transpose(img,(2,0,1))\n",
    "    img_aug1 = seq.augment_images(img1)\n",
    "    img_aug=np.transpose(img_aug1,(1,2,0))\n",
    "    return img_aug"
   ]
  },
  {
   "cell_type": "code",
   "execution_count": null,
   "metadata": {},
   "outputs": [],
   "source": [
    "img = img_color_invert(img)\n",
    "plt.imshow(img)"
   ]
  },
  {
   "cell_type": "code",
   "execution_count": null,
   "metadata": {},
   "outputs": [],
   "source": []
  }
 ],
 "metadata": {
  "kernelspec": {
   "display_name": "Python 3",
   "language": "python",
   "name": "python3"
  },
  "language_info": {
   "codemirror_mode": {
    "name": "ipython",
    "version": 3
   },
   "file_extension": ".py",
   "mimetype": "text/x-python",
   "name": "python",
   "nbconvert_exporter": "python",
   "pygments_lexer": "ipython3",
   "version": "3.6.7"
  }
 },
 "nbformat": 4,
 "nbformat_minor": 2
}
