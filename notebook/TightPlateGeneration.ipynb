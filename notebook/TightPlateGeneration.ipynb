{
 "cells": [
  {
   "cell_type": "markdown",
   "metadata": {},
   "source": [
    "# Synthetic Malaysia License Plate "
   ]
  },
  {
   "cell_type": "markdown",
   "metadata": {},
   "source": [
    "## Generate background image\n",
    "Notice the background images' size are too large for normal license plate ratio. We would crop out the plate ROI after the license plate generation."
   ]
  },
  {
   "cell_type": "code",
   "execution_count": 1,
   "metadata": {},
   "outputs": [],
   "source": [
    "from PIL import Image, ImageDraw, ImageFont\n",
    "import matplotlib.pyplot as plt"
   ]
  },
  {
   "cell_type": "code",
   "execution_count": 2,
   "metadata": {},
   "outputs": [
    {
     "data": {
      "text/plain": [
<<<<<<< HEAD
       "<matplotlib.image.AxesImage at 0x7f94b195e860>"
=======
       "<matplotlib.image.AxesImage at 0x7f335f233898>"
>>>>>>> cef326851f4ec4923e2abf3c6758d468f8c52294
      ]
     },
     "execution_count": 2,
     "metadata": {},
     "output_type": "execute_result"
    },
    {
     "data": {
<<<<<<< HEAD
      "image/png": "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\n",
=======
      "image/png": "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\n",
>>>>>>> cef326851f4ec4923e2abf3c6758d468f8c52294
      "text/plain": [
       "<Figure size 432x288 with 1 Axes>"
      ]
     },
     "metadata": {
      "needs_background": "light"
     },
     "output_type": "display_data"
    }
   ],
   "source": [
<<<<<<< HEAD
    "plate_0_background = Image.new('RGB', (400,100), (25, 25, 25))\n",
=======
    "plate_0_background = Image.new('RGB', (250,80), (25, 25, 25))\n",
>>>>>>> cef326851f4ec4923e2abf3c6758d468f8c52294
    "plt.imshow(plate_0_background)"
   ]
  },
  {
   "cell_type": "markdown",
   "metadata": {},
   "source": [
    "Save the background locally"
   ]
  },
  {
   "cell_type": "code",
   "execution_count": null,
   "metadata": {},
   "outputs": [],
   "source": [
    "plate_0_background.save('/home/tunnel/ck-research/my_1.jpg')"
   ]
  },
  {
   "cell_type": "code",
   "execution_count": 3,
   "metadata": {},
   "outputs": [
    {
     "data": {
      "text/plain": [
<<<<<<< HEAD
       "<matplotlib.image.AxesImage at 0x7f94b1878e80>"
=======
       "<matplotlib.image.AxesImage at 0x7f335f140c18>"
>>>>>>> cef326851f4ec4923e2abf3c6758d468f8c52294
      ]
     },
     "execution_count": 3,
     "metadata": {},
     "output_type": "execute_result"
    },
    {
     "data": {
<<<<<<< HEAD
      "image/png": "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\n",
=======
      "image/png": "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\n",
>>>>>>> cef326851f4ec4923e2abf3c6758d468f8c52294
      "text/plain": [
       "<Figure size 432x288 with 1 Axes>"
      ]
     },
     "metadata": {
      "needs_background": "light"
     },
     "output_type": "display_data"
    }
   ],
   "source": [
<<<<<<< HEAD
    "plate_1_background = Image.new('RGB', (400,400), (25, 25, 25))\n",
=======
    "plate_1_background = Image.new('RGB', (200,200), (25, 25, 25))\n",
>>>>>>> cef326851f4ec4923e2abf3c6758d468f8c52294
    "plt.imshow(plate_1_background)"
   ]
  },
  {
   "cell_type": "markdown",
   "metadata": {},
   "source": [
    "Save the background locally"
   ]
  },
  {
   "cell_type": "code",
   "execution_count": null,
   "metadata": {},
   "outputs": [],
   "source": [
<<<<<<< HEAD
    "plate_1_background.save('/home/tunnel/ck-research/my_1_b.jpg')"
=======
    "plate_1_background.save('/home/tunnel/ck-research/my_1_c.jpg')"
>>>>>>> cef326851f4ec4923e2abf3c6758d468f8c52294
   ]
  },
  {
   "cell_type": "markdown",
   "metadata": {},
   "source": [
    "Keep both plate background in list"
   ]
  },
  {
   "cell_type": "code",
   "execution_count": 4,
   "metadata": {},
   "outputs": [],
   "source": [
    "plate_background = [plate_0_background, plate_1_background]"
   ]
  },
  {
   "cell_type": "markdown",
   "metadata": {},
   "source": [
    "## Generate license plate character\n",
    "Generate random license plate string using pillow function"
   ]
  },
  {
   "cell_type": "code",
<<<<<<< HEAD
   "execution_count": 5,
=======
   "execution_count": 47,
>>>>>>> cef326851f4ec4923e2abf3c6758d468f8c52294
   "metadata": {},
   "outputs": [],
   "source": [
    "import random\n",
    "import urllib.request\n",
    "from zipfile import ZipFile "
   ]
  },
  {
   "cell_type": "markdown",
   "metadata": {},
   "source": [
    "Download Fonts"
   ]
  },
  {
   "cell_type": "code",
<<<<<<< HEAD
=======
   "execution_count": null,
   "metadata": {},
   "outputs": [],
   "source": [
    "url='https://dl.dafont.com/dl/?f=old_sans_black'\n",
    "data = response.read()"
   ]
  },
  {
   "cell_type": "code",
>>>>>>> cef326851f4ec4923e2abf3c6758d468f8c52294
   "execution_count": 6,
   "metadata": {},
   "outputs": [],
   "source": [
    "char = chr(random.randint(65,90))\n",
    "digit = chr(random.randint(48, 57))"
   ]
  },
  {
   "cell_type": "code",
   "execution_count": 7,
   "metadata": {},
   "outputs": [],
   "source": [
    "def prefix(str_num):\n",
    "    char = str(chr(random.randint(65,90)))\n",
    "    for j in range(str_num-1):\n",
    "        char += str(chr(random.randint(65,90)))\n",
    "    return char"
   ]
  },
  {
   "cell_type": "code",
   "execution_count": 8,
   "metadata": {},
   "outputs": [],
   "source": [
    "def digits(dig_num):\n",
    "    digit = str(chr(random.randint(48,57)))\n",
    "    for j in range(2):\n",
    "        digit += str(chr(random.randint(48,57)))\n",
    "    return digit"
   ]
  },
  {
   "cell_type": "code",
   "execution_count": 9,
   "metadata": {},
   "outputs": [],
   "source": [
    "def three_prefix():\n",
    "    pfx = prefix(str_num=3)\n",
    "    digit = digits(dig_num=4)\n",
    "    plate = pfx + ' ' + digit\n",
    "    return plate"
   ]
  },
  {
   "cell_type": "code",
   "execution_count": 10,
   "metadata": {},
   "outputs": [],
   "source": [
    "def text_contruction(draw, font, text, img_w, img_h, draw_w, draw_h):\n",
    "    draw.text(xy=((((img_w - draw_w) / 2)-1), ((img_h - draw_h) / 2)-1), text=text, fill=(10, 10, 10), font=font, align=\"center\")\n",
    "    draw.text(xy=((((img_w - draw_w) / 2)+1), ((img_h - draw_h) / 2)-1), text=text, fill=(10, 10, 10), font=font, align=\"center\")\n",
    "    draw.text(xy=((((img_w - draw_w) / 2)+1), ((img_h - draw_h) / 2)+1), text=text, fill=(10, 10, 10), font=font, align=\"center\")\n",
    "    draw.text(xy=((((img_w - draw_w) / 2)-1), ((img_h - draw_h) / 2)+1), text=text, fill=(10, 10, 10), font=font, align=\"center\")\n",
    "    draw.text(xy=((img_w - draw_w) / 2, (img_h - draw_h) / 2), text=text, fill=(248, 248, 248), font=font, align=\"center\")\n",
    "    return"
   ]
  },
  {
   "cell_type": "code",
<<<<<<< HEAD
   "execution_count": 11,
=======
   "execution_count": 23,
>>>>>>> cef326851f4ec4923e2abf3c6758d468f8c52294
   "metadata": {},
   "outputs": [],
   "source": [
    " def plate_image(plate):\n",
    "    background = random.choice(plate_background)\n",
    "    img = background\n",
    "    img_w, img_h = img.size\n",
    "    font_ = \"/home/EasyOCRGen/fonts/msia/Arial_Condensed_Bold.ttf\"\n",
    "    # print(len(chr(plate[word_index])))\n",
    "    font = ImageFont.truetype(font=font_, size=18)\n",
    "    draw = ImageDraw.Draw(img)\n",
    "    draw_w, draw_h = draw.textsize(plate, font=font)\n",
    "    if img_w / img_h > 2:\n",
    "        text_contruction(draw, font, plate, img_w, img_h, draw_w, draw_h)\n",
    "        # draw.text(xy=((img_w-draw_w)/2, (img_h-draw_h)/2), text=plate[word_index], font=font, align=\"center\")\n",
    "    else:\n",
    "        plate1 = plate.split(maxsplit=1)[0] + '\\n' + plate.split(maxsplit=1)[1]\n",
    "        text_contruction(draw, font, plate1, img_w, img_h, draw_w, draw_h)\n",
    "        # draw.text(xy=((img_w - draw_w) / 2, (img_h - draw_h) / 2), text=plate[word_index], font=font,\n",
    "        #           align=\"center\")\n",
    "        \n",
    "    return img"
   ]
  },
  {
   "cell_type": "code",
<<<<<<< HEAD
   "execution_count": 12,
=======
   "execution_count": 24,
>>>>>>> cef326851f4ec4923e2abf3c6758d468f8c52294
   "metadata": {},
   "outputs": [
    {
     "data": {
      "text/plain": [
<<<<<<< HEAD
       "<matplotlib.image.AxesImage at 0x7f94b176d978>"
      ]
     },
     "execution_count": 12,
=======
       "<matplotlib.image.AxesImage at 0x7f335e3ae6a0>"
      ]
     },
     "execution_count": 24,
>>>>>>> cef326851f4ec4923e2abf3c6758d468f8c52294
     "metadata": {},
     "output_type": "execute_result"
    },
    {
     "data": {
<<<<<<< HEAD
      "image/png": "iVBORw0KGgoAAAANSUhEUgAAAYAAAAB2CAYAAADBe0QPAAAABHNCSVQICAgIfAhkiAAAAAlwSFlzAAALEgAACxIB0t1+/AAAADl0RVh0U29mdHdhcmUAbWF0cGxvdGxpYiB2ZXJzaW9uIDMuMC4zLCBodHRwOi8vbWF0cGxvdGxpYi5vcmcvnQurowAAD5FJREFUeJzt3X+MVWV+x/H3997hwjj80IEtEiGRMcRmW1tQS/2Bm2UNlNX6K1EDMStaU4ytRmIbxTVubZsmW7OrrYlBUai27CrIrlmj1jIVk6Yxg4yC/BAUVpEVr9CFCMOvgTv32z/Oc8c7l3tngHvvnDt7Pq/kZs55zrn3fHmYud/zPOc85zF3R0REkicVdwAiIhIPJQARkYRSAhARSSglABGRhFICEBFJKCUAEZGEqksCMLM5Zvaxme0ws0X1OIaIiFTHaj0OwMzSwCfALOALYB0wz90/qumBRESkKvVoAUwHdrj7p+5+HHgZuKEOxxERkSo01eEzzwN+U7T+BfCn/b0hlUp5U1M9QhER+d114sSJ37r7t870/bF965rZAmABQDqdZty4cXGFIiIyJGWz2c+reX89uoB2A5OK1ieGsj7cfYm7X+rul6ZSuhlJRGSw1eObdx0wxcwmm1kGmAu8VofjiIhIFWreBeTuOTO7F/gvIA0sc/cttT6OiIhUpy7XANz9TeDNeny2iIjUhjrfRUQSSglARCShlABERBJKCUBEJKGUAEREEkoJQEQkoZQAREQSSglARCShlABERBJKCUBEJKGUAEREEkoJQEQkoc44AZjZJDN7x8w+MrMtZnZ/KH/MzHab2YbwuqZ24YqISK1U8zTQHPA37v6BmY0C3jez9rDtSXf/SfXhiYhIvZxxAnD3LJANy11mtpVoPmARERkCanINwMzOB6YBa0PRvWa20cyWmdk5Fd6zwMw6zawzn8/XIgwRETkNVScAMxsJ/AJY6O4HgcXABcBUohbCT8u9T3MCi4jEq6pvXjMbRvTl/zN3/yWAu+9x9x53zwPPAdOrD1NERGqtmruADFgKbHX3J4rKJxTtdhOw+czDExGReqnmLqArgR8Am8xsQyj7ITDPzKYCDuwE7q4qQhERqYtq7gL6X8DKbNJk8CIiQ4CuvoqIJJQSgIhIQikBiIgklBKAiEhCKQGIiCSUEoCISEIpAYiIJJQSgIhIQikBiIgklBKAiEhCVfMsIJFYHD58mFwuV3ZbU1PTSdvGjBkDQFdXF8VzT6TTaVKpFCdOnDjpc8yMVCrFyJEjB4zn0KFD9PT0ADBixAiGDx8OgLtz8OBBzAx3p6WlpTf+Ss466yyGDRs24DFFakEtABmSVq1axf79+096lW7LZrP09PSQz+fJ5/Ns2bKF/fv3097e3vtZy5cv791/37597Nq1i/b2dq677rqyyaFYd3c3AO3t7dxzzz19th05coStW7eyb98+Lrvsst7ycnHv37+fW2+9tVbVI3JKqp0PYKeZbQqTv3eGslYzazez7eFn2RnBRM5U4Wx79erVtLa29nkVtgHk83mGDx/OsWPHOHr0KLfffjsTJkzo3Sefz/fZv7W1lfPOO4958+YxadIkli1bxpEjRyrGcejQIdra2ti9ezeXXHIJALlcjqNHjzJ69Ghef/11xo8ff1LcpTHPnDmTzs5OVq1aVbtKEjkFtWgBzHT3qe5+aVhfBLzt7lOAt8O6SF2YGWPGjOl9Fdu2bRsQffH29PRw1VVXAbB5c/kpKsyMdDrNu+++y/Lly3vLyjl27BipVIrFixeTyWT6JBIz44EHHmD69JPnQmpqauqNtbm5mVQqxRNPPMFDDz2Eman7RwZVPbqAbgBeDMsvAjfW4RgiQNTPfuDAgd5Xsc7Ozj77XXnllQB0dHQM+JnF/fjldHd38+CDD3LRRRexZs0aNm3a1Of9X331Fffff3+/x+nu7mb+/PlMmzaN9evX09zc3O/+IrVWbQJwYLWZvW9mC0LZeHfPhuWvgPHl3qhJ4aVas2fP7tOH/vTTT/fZns1m+fLLL7nwwgu54IILOPfcc8lms+zatavs57k7ZsasWbO47bbbgMotgGnTprFw4UIOHDjAfffd12dbKpXiqaeeYsWKFRVjP3HiBGbGwoULARg2bBjpdPqU/+0itVDtXUAz3H23mf0e0G5m24o3urubWdlTKHdfAiwByGQy5U+zRKrU2dnZ5wJsf2f/hYvIBdu2baOp6eQ/kWPHjvHMM8+QTqdZtGgR2Wy2z/ZC66G4W6jU8ePHuf7665k0aRLr16/vfY/IYKoqAbj77vBzr5m9SjQB/B4zm+Du2TA/8N4axClyktWrVzN37tw+ZaVn7OvWrePyyy/vPbvu6Ogo+6Ve6q233uKOO+4o2y3T09PDlClTeOONN046y8/lchw+fLj3ls9y3J1cLsedd94JwMqVK3X2L7E44wRgZi1Ayt27wvJs4B+A14D5wI/Dz1/VIlCRcsyM0aNH964fPHiwz/bnn3++9wz94MGDLF26lLvvLj9N9dixY3F3VqxYwZw5c9i1axcTJ06s+GV+7bXX9mk1TJ06ldmzZ3PLLbf0G3N3dzc33ngjM2bM4LPPPuPZZ5896QK2yGCopgUwHng1nHE1AT9397fMbB2w0szuAj4HdHOz1E3hInBBaQugcJ8+wHvvvcdA15uampp45JFHmDlzJplMhlwuRy6XO6nV0Nra2md9zZo1vPLKKyxevHjAFkYul+u9Q2jjxo0VrzOI1Fs1k8J/CvxxmfJ9wNXVBCVyKgoXgYuNHTu24v4dHR0Dftk2NzezY8eO3pbCFVdcwdq1a/uMCC5tERS3Opqamvrt/oFo/EFbWxsA27dvJ5XSeEyJh37zZMjpr7+89Mu0eN+Ojo4+66lUqs964dEQmUyGxx9/nK+//ppHH32UESNG9BtP8TGLz/5Lk03hWOl0msmTJwOwb9++U7omIVIPVuk+58GUyWR83LhxcYchQ0R/zwJKp9P09PSQSqXI5/MnPRsok8lw/Pjx3n0LzwIqDAJraWnB3enq6uodA5BOp/t9JlClZwHl83m6urp692tpaaGpqan3mUSFZwQ1NzeTyWSqqxRJpGw2+37RINzTplMPGXIG6mIZyEADrkovLA+kUnJIpVJlL+6OGjXqlD9bpJ7UBSQiklBKACIiCaUEICKSUEoAIiIJpQQgIpJQSgAiIgmlBCAiklBKACIiCaUEICKSUNU8DvpCoPhh6G3Aj4Czgb8E/i+U/9Dd3zzjCEVEpC6qeRrox8BUADNLA7uBV4E7gSfd/Sc1iVBEROqiVl1AVwO/dvfPa/R5IiJSZ7VKAHOBl4rW7zWzjWa2zMzOKfcGTQovIhKvqh8HbWYZ4EvgD9x9j5mNB34LOPCPwAR3/4v+PkOPgxYROX3VPg66Fi2A7wMfuPseAHff4+497p4HniOaKF5ERBpMLRLAPIq6f8xsQtG2m4DNNTiGiIjUWFUTwphZCzALuLuo+HEzm0rUBbSzZJuIiDSIqhKAux8GxpaU/aCqiEREZFBoJLCISEIpAYiIJJQSgIhIQikBiIgklBKAiEhCKQGIiCSUEoCISEIpAYiIJJQSgIhIQikBiIgklBKAiEhCKQGIiCTUgAkgzOq118w2F5W1mlm7mW0PP88J5WZmT5nZjjAj2MX1DF5ERM7cqbQAXgDmlJQtAt529ynA22EdoslhpoTXAmBxbcIUEZFaGzABuPv/APtLim8AXgzLLwI3FpX/u0c6gLNLJogREZEGcabzAYx392xY/goYH5bPA35TtN8XoSxLCTNbQNRKAOjOZrNDYeawcUTzHTc6xVlbirO2hkKcQyFGgAureXNVE8IAuLub2WnPLO/uS4AlAGbWWc3ExoNFcdaW4qwtxVk7QyFGiOKs5v1nehfQnkLXTvi5N5TvBiYV7TcxlImISIM50wTwGjA/LM8HflVUfnu4G+gy4EBRV5GIiDSQAbuAzOwl4LvAODP7Avg74MfASjO7C/gcuDXs/iZwDbADOALceYpxLDm9sGOjOGtLcdaW4qydoRAjVBmnuZ92972IiPwO0EhgEZGEij0BmNkcM/s4jB5eNPA7Bo+Z7TSzTWa2oXC1vdIo6EGOa0iMzq4Q52NmtjvU6QYzu6Zo28Mhzo/N7M8GKcZJZvaOmX1kZlvM7P5Q3lD12U+cjVafI8zsPTP7MMT596F8spmtDfGsMLNMKB8e1neE7efHHOcLZvZZUX1ODeVx/h2lzWy9mb0e1mtXl+4e2wtIA78G2oAM8CHw7ThjKolvJzCupOxxYFFYXgT8cwxxfQe4GNg8UFxE12T+EzDgMmBtzHE+BvxtmX2/Hf7/hwOTw+9FehBinABcHJZHAZ+EWBqqPvuJs9Hq04CRYXkYsDbU00pgbih/BrgnLP8V8ExYngusGKT6rBTnC8DNZfaP8+/oAeDnwOthvWZ1GXcLYDqww90/dffjwMtEo4kbWaVR0IPGh8jo7ApxVnID8LK7d7v7Z0Q3EkyvW3CBu2fd/YOw3AVsJRq82FD12U+clcRVn+7uh8LqsPBy4HvAqlBeWp+Fel4FXG1mFmOclcTy/25mE4FrgefDulHDuow7AVQaOdwoHFhtZu9bNHIZKo+Cjtvpjs6O072hGb2sqAst9jhDk3ka0dlgw9ZnSZzQYPUZuiw2EI0PaidqfXzt7rkysfTGGbYfAMbGEae7F+rzn0J9Pmlmw0vjDAarPv8FeBDIh/Wx1LAu404AjW6Gu19M9JC7vzaz7xRv9Kit1XC3UTVqXMFi4AJgKtEjQn4abzgRMxsJ/AJY6O4Hi7c1Un2WibPh6tPde9x9KtFA0OnA78ccUlmlcZrZHwIPE8X7J0Ar8FBc8ZnZnwN73f39eh0j7gTQ0COH3X13+LkXeJXol7nSKOi4DYnR2e6+J/zh5YHn+KZbIrY4zWwY0Zfqz9z9l6G44eqzXJyNWJ8F7v418A5wOVGXSWHcUXEsvXGG7WOAfTHFOSd0tbm7dwP/Rrz1eSVwvZntJOoe/x7wr9SwLuNOAOuAKeGqdobowsVrMccEgJm1mNmowjIwG9hM5VHQcRsSo7NL+k1vIqpTiOKcG+5kmEz0SPH3BiEeA5YCW939iaJNDVWfleJswPr8lpmdHZabgVlE1yveAW4Ou5XWZ6GebwbWhBZXHHFuK0r6RtS3Xlyfg/r/7u4Pu/tEdz+f6LtxjbvfRi3rst5XsAd6EV1d/4Son/CRuOMpiquN6C6KD4EthdiI+tTeBrYD/w20xhDbS0TN/RNEfYB3VYqL6K6Fp0P9bgIujTnO/whxbAy/sBOK9n8kxPkx8P1BinEGUffORmBDeF3TaPXZT5yNVp9/BKwP8WwGfhTK24gS0A7gFWB4KB8R1neE7W0xx7km1OdmYDnf3CkU299ROP53+eYuoJrVpUYCi4gkVNxdQCIiEhMlABGRhFICEBFJKCUAEZGEUgIQEUkoJQARkYRSAhARSSglABGRhPp/0SyyZrtZyuwAAAAASUVORK5CYII=\n",
=======
      "image/png": "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\n",
>>>>>>> cef326851f4ec4923e2abf3c6758d468f8c52294
      "text/plain": [
       "<Figure size 432x288 with 1 Axes>"
      ]
     },
     "metadata": {
      "needs_background": "light"
     },
     "output_type": "display_data"
    }
   ],
   "source": [
    "plate = three_prefix()\n",
    "img = plate_image(plate)\n",
    "plt.imshow(img)"
   ]
  },
  {
   "cell_type": "markdown",
   "metadata": {},
   "source": [
    "# Crop out license plate ROI\n",
    "To crop out the ROI region of the oversized license plate"
   ]
  },
  {
   "cell_type": "code",
<<<<<<< HEAD
   "execution_count": 13,
=======
   "execution_count": 25,
>>>>>>> cef326851f4ec4923e2abf3c6758d468f8c52294
   "metadata": {
    "scrolled": true
   },
   "outputs": [],
   "source": [
    "import cv2\n",
    "import matplotlib.pyplot as plt\n",
    "import numpy as np\n",
    "from imgaug import augmenters as iaa"
   ]
  },
  {
   "cell_type": "markdown",
   "metadata": {},
   "source": [
    "Convert RGB to BGR. BGR is OpenCV image channel sequence."
   ]
  },
  {
   "cell_type": "code",
<<<<<<< HEAD
   "execution_count": 14,
=======
   "execution_count": 28,
>>>>>>> cef326851f4ec4923e2abf3c6758d468f8c52294
   "metadata": {},
   "outputs": [],
   "source": [
    "img = cv2.cvtColor(np.array(img), cv2.COLOR_RGB2BGR)"
   ]
  },
  {
   "cell_type": "code",
<<<<<<< HEAD
   "execution_count": 15,
=======
   "execution_count": 29,
>>>>>>> cef326851f4ec4923e2abf3c6758d468f8c52294
   "metadata": {},
   "outputs": [],
   "source": [
    "img_y, img_x, img_c = img.shape"
   ]
  },
  {
   "cell_type": "markdown",
   "metadata": {},
   "source": [
    "## Data Augmentation: Image perspective transform\n",
    "Simulate different view point of the camera to the license plate in real world "
   ]
  },
  {
   "cell_type": "code",
<<<<<<< HEAD
   "execution_count": 16,
=======
   "execution_count": 30,
>>>>>>> cef326851f4ec4923e2abf3c6758d468f8c52294
   "metadata": {},
   "outputs": [],
   "source": [
    "def img_pers_trans(img, p1=0.1, p2=0.1):\n",
    "    seq = iaa.Sequential([iaa.PerspectiveTransform(scale = (p1,p2), deterministic = True, keep_size = True)])\n",
    "    img_aug = seq.augment_image(img)\n",
    "    return img_aug"
   ]
  },
  {
   "cell_type": "code",
<<<<<<< HEAD
   "execution_count": 17,
=======
   "execution_count": 31,
>>>>>>> cef326851f4ec4923e2abf3c6758d468f8c52294
   "metadata": {},
   "outputs": [
    {
     "data": {
      "text/plain": [
<<<<<<< HEAD
       "<matplotlib.image.AxesImage at 0x7f948595c588>"
      ]
     },
     "execution_count": 17,
=======
       "<matplotlib.image.AxesImage at 0x7f3332265c88>"
      ]
     },
     "execution_count": 31,
>>>>>>> cef326851f4ec4923e2abf3c6758d468f8c52294
     "metadata": {},
     "output_type": "execute_result"
    },
    {
     "data": {
<<<<<<< HEAD
      "image/png": "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\n",
=======
      "image/png": "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\n",
>>>>>>> cef326851f4ec4923e2abf3c6758d468f8c52294
      "text/plain": [
       "<Figure size 432x288 with 1 Axes>"
      ]
     },
     "metadata": {
      "needs_background": "light"
     },
     "output_type": "display_data"
    }
   ],
   "source": [
    "img = img_pers_trans(img)\n",
    "plt.imshow(img)"
   ]
  },
  {
   "cell_type": "markdown",
   "metadata": {},
   "source": [
    "## Finding the contours of ROI\n",
    "First we dilate (Black background) with small kernel and high iteration, for a more precise contour around the character. Compare all pair **'X'** and **'Y'** of contour. Assuming the **top left point is the smallest X and Y** and the **bottom right point is the biggest X and Y**. "
   ]
  },
  {
   "cell_type": "code",
<<<<<<< HEAD
   "execution_count": 18,
=======
   "execution_count": 32,
>>>>>>> cef326851f4ec4923e2abf3c6758d468f8c52294
   "metadata": {},
   "outputs": [],
   "source": [
    "def dilate(img):\n",
    "    kernel = np.ones((3,3), np.uint8)\n",
    "    img_roi = cv2.dilate(img, kernel, iterations=7)\n",
    "    return img_roi"
   ]
  },
  {
   "cell_type": "code",
<<<<<<< HEAD
   "execution_count": 19,
=======
   "execution_count": 33,
>>>>>>> cef326851f4ec4923e2abf3c6758d468f8c52294
   "metadata": {},
   "outputs": [
    {
     "data": {
      "text/plain": [
<<<<<<< HEAD
       "<matplotlib.image.AxesImage at 0x7f948593e470>"
      ]
     },
     "execution_count": 19,
=======
       "<matplotlib.image.AxesImage at 0x7f33321b8c88>"
      ]
     },
     "execution_count": 33,
>>>>>>> cef326851f4ec4923e2abf3c6758d468f8c52294
     "metadata": {},
     "output_type": "execute_result"
    },
    {
     "data": {
<<<<<<< HEAD
      "image/png": "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\n",
=======
      "image/png": "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\n",
>>>>>>> cef326851f4ec4923e2abf3c6758d468f8c52294
      "text/plain": [
       "<Figure size 432x288 with 1 Axes>"
      ]
     },
     "metadata": {
      "needs_background": "light"
     },
     "output_type": "display_data"
    }
   ],
   "source": [
    "img_roi = dilate(img)\n",
    "plt.imshow(img_roi)"
   ]
  },
  {
   "cell_type": "markdown",
   "metadata": {},
   "source": [
    "### Grayscale, Thresholding & Contours\n",
    "Standard practice of finding image contours: Apply thresholding."
   ]
  },
  {
   "cell_type": "code",
<<<<<<< HEAD
   "execution_count": 20,
=======
   "execution_count": 34,
>>>>>>> cef326851f4ec4923e2abf3c6758d468f8c52294
   "metadata": {},
   "outputs": [],
   "source": [
    "imgray = cv2.cvtColor(img_roi, cv2.COLOR_BGR2GRAY)\n",
    "ret, thresh = cv2.threshold(imgray, 127, 255, cv2.THRESH_BINARY)\n",
    "contours, hierachy = cv2.findContours(thresh, cv2.RETR_TREE, cv2.CHAIN_APPROX_SIMPLE)"
   ]
  },
  {
   "cell_type": "code",
<<<<<<< HEAD
   "execution_count": 21,
=======
   "execution_count": 35,
>>>>>>> cef326851f4ec4923e2abf3c6758d468f8c52294
   "metadata": {},
   "outputs": [
    {
     "data": {
      "text/plain": [
<<<<<<< HEAD
       "[array([[[149,  34]],\n",
       " \n",
       "        [[149,  44]],\n",
       " \n",
       "        [[148,  45]],\n",
       " \n",
       "        [[148,  61]],\n",
       " \n",
       "        [[149,  62]],\n",
       " \n",
       "        [[149,  63]],\n",
       " \n",
       "        [[205,  63]],\n",
       " \n",
       "        [[206,  64]],\n",
       " \n",
       "        [[229,  64]],\n",
       " \n",
       "        [[229,  62]],\n",
       " \n",
       "        [[230,  61]],\n",
       " \n",
       "        [[230,  58]],\n",
       " \n",
       "        [[231,  57]],\n",
       " \n",
       "        [[231,  55]],\n",
       " \n",
       "        [[232,  54]],\n",
       " \n",
       "        [[232,  53]],\n",
       " \n",
       "        [[233,  52]],\n",
       " \n",
       "        [[233,  36]],\n",
       " \n",
       "        [[221,  36]],\n",
       " \n",
       "        [[220,  35]],\n",
       " \n",
       "        [[197,  35]],\n",
       " \n",
       "        [[196,  36]],\n",
       " \n",
       "        [[195,  35]],\n",
       " \n",
       "        [[169,  35]],\n",
       " \n",
       "        [[168,  34]]], dtype=int32)]"
      ]
     },
     "execution_count": 21,
=======
       "[array([[[ 80,  24]],\n",
       " \n",
       "        [[ 79,  25]],\n",
       " \n",
       "        [[ 78,  25]],\n",
       " \n",
       "        [[ 76,  27]],\n",
       " \n",
       "        [[ 76,  29]],\n",
       " \n",
       "        [[ 75,  30]],\n",
       " \n",
       "        [[ 75,  48]],\n",
       " \n",
       "        [[ 76,  49]],\n",
       " \n",
       "        [[ 76,  51]],\n",
       " \n",
       "        [[ 77,  52]],\n",
       " \n",
       "        [[ 78,  52]],\n",
       " \n",
       "        [[ 79,  53]],\n",
       " \n",
       "        [[104,  53]],\n",
       " \n",
       "        [[105,  54]],\n",
       " \n",
       "        [[143,  54]],\n",
       " \n",
       "        [[144,  55]],\n",
       " \n",
       "        [[158,  55]],\n",
       " \n",
       "        [[159,  54]],\n",
       " \n",
       "        [[160,  54]],\n",
       " \n",
       "        [[161,  53]],\n",
       " \n",
       "        [[161,  52]],\n",
       " \n",
       "        [[162,  51]],\n",
       " \n",
       "        [[162,  34]],\n",
       " \n",
       "        [[161,  33]],\n",
       " \n",
       "        [[161,  29]],\n",
       " \n",
       "        [[160,  28]],\n",
       " \n",
       "        [[160,  27]],\n",
       " \n",
       "        [[159,  27]],\n",
       " \n",
       "        [[158,  26]],\n",
       " \n",
       "        [[125,  26]],\n",
       " \n",
       "        [[124,  25]],\n",
       " \n",
       "        [[ 95,  25]],\n",
       " \n",
       "        [[ 94,  24]]], dtype=int32)]"
      ]
     },
     "execution_count": 35,
>>>>>>> cef326851f4ec4923e2abf3c6758d468f8c52294
     "metadata": {},
     "output_type": "execute_result"
    }
   ],
   "source": [
    "contours"
   ]
  },
  {
   "cell_type": "code",
<<<<<<< HEAD
   "execution_count": 22,
=======
   "execution_count": 36,
>>>>>>> cef326851f4ec4923e2abf3c6758d468f8c52294
   "metadata": {},
   "outputs": [],
   "source": [
    "con = cv2.drawContours(img_roi, contours, -1, (0, 0, 255), 3)"
   ]
  },
  {
   "cell_type": "code",
<<<<<<< HEAD
   "execution_count": 23,
=======
   "execution_count": 37,
>>>>>>> cef326851f4ec4923e2abf3c6758d468f8c52294
   "metadata": {},
   "outputs": [
    {
     "data": {
      "text/plain": [
<<<<<<< HEAD
       "<matplotlib.image.AxesImage at 0x7f948589e438>"
      ]
     },
     "execution_count": 23,
=======
       "<matplotlib.image.AxesImage at 0x7f333218da58>"
      ]
     },
     "execution_count": 37,
>>>>>>> cef326851f4ec4923e2abf3c6758d468f8c52294
     "metadata": {},
     "output_type": "execute_result"
    },
    {
     "data": {
<<<<<<< HEAD
      "image/png": "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\n",
=======
      "image/png": "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\n",
>>>>>>> cef326851f4ec4923e2abf3c6758d468f8c52294
      "text/plain": [
       "<Figure size 432x288 with 1 Axes>"
      ]
     },
     "metadata": {
      "needs_background": "light"
     },
     "output_type": "display_data"
    }
   ],
   "source": [
    "plt.imshow(con)"
   ]
  },
  {
   "cell_type": "code",
<<<<<<< HEAD
   "execution_count": 24,
=======
   "execution_count": 38,
>>>>>>> cef326851f4ec4923e2abf3c6758d468f8c52294
   "metadata": {},
   "outputs": [
    {
     "data": {
      "text/plain": [
<<<<<<< HEAD
       "<matplotlib.image.AxesImage at 0x7f948587a0f0>"
      ]
     },
     "execution_count": 24,
=======
       "<matplotlib.image.AxesImage at 0x7f333215e828>"
      ]
     },
     "execution_count": 38,
>>>>>>> cef326851f4ec4923e2abf3c6758d468f8c52294
     "metadata": {},
     "output_type": "execute_result"
    },
    {
     "data": {
<<<<<<< HEAD
      "image/png": "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\n",
=======
      "image/png": "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\n",
>>>>>>> cef326851f4ec4923e2abf3c6758d468f8c52294
      "text/plain": [
       "<Figure size 432x288 with 1 Axes>"
      ]
     },
     "metadata": {
      "needs_background": "light"
     },
     "output_type": "display_data"
    }
   ],
   "source": [
    "plt.imshow(imgray)"
   ]
  },
  {
   "cell_type": "code",
<<<<<<< HEAD
   "execution_count": 25,
=======
   "execution_count": 39,
>>>>>>> cef326851f4ec4923e2abf3c6758d468f8c52294
   "metadata": {},
   "outputs": [
    {
     "data": {
      "text/plain": [
<<<<<<< HEAD
       "<matplotlib.image.AxesImage at 0x7f94857d2ef0>"
      ]
     },
     "execution_count": 25,
=======
       "<matplotlib.image.AxesImage at 0x7f33320b36d8>"
      ]
     },
     "execution_count": 39,
>>>>>>> cef326851f4ec4923e2abf3c6758d468f8c52294
     "metadata": {},
     "output_type": "execute_result"
    },
    {
     "data": {
<<<<<<< HEAD
      "image/png": "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\n",
=======
      "image/png": "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\n",
>>>>>>> cef326851f4ec4923e2abf3c6758d468f8c52294
      "text/plain": [
       "<Figure size 432x288 with 1 Axes>"
      ]
     },
     "metadata": {
      "needs_background": "light"
     },
     "output_type": "display_data"
    }
   ],
   "source": [
    "plt.imshow(thresh)"
   ]
  },
  {
   "cell_type": "markdown",
   "metadata": {},
   "source": [
    "### Select suitable contours\n",
    "There are usually more than one contour in a image. Since roi drew from erode/dilate has more complicated shape from the others, we select the contour with more points as our target contour. "
   ]
  },
  {
   "cell_type": "code",
<<<<<<< HEAD
   "execution_count": 26,
=======
   "execution_count": 40,
>>>>>>> cef326851f4ec4923e2abf3c6758d468f8c52294
   "metadata": {},
   "outputs": [],
   "source": [
    "def contour_hunter(contours):\n",
    "    con = []\n",
    "    con_count = len(contours)\n",
    "    for count, point in enumerate(contours):\n",
    "        print('Contour count: {}'.format(count))\n",
    "        print('Contour points: {}'.format(len(point)))\n",
    "        con.append(len(point))\n",
    "    target_con = np.argmax(con)\n",
    "    return target_con"
   ]
  },
  {
   "cell_type": "code",
<<<<<<< HEAD
   "execution_count": 27,
=======
   "execution_count": 41,
>>>>>>> cef326851f4ec4923e2abf3c6758d468f8c52294
   "metadata": {},
   "outputs": [
    {
     "name": "stdout",
     "output_type": "stream",
     "text": [
      "Contour count: 0\n",
<<<<<<< HEAD
      "Contour points: 25\n"
=======
      "Contour points: 33\n"
>>>>>>> cef326851f4ec4923e2abf3c6758d468f8c52294
     ]
    }
   ],
   "source": [
    "con_points = []\n",
    "x_points = []\n",
    "y_points = []\n",
    "target_contour = contour_hunter(contours)\n",
    "\n",
    "for x in contours[target_contour]:\n",
    "    add = np.sum(x)\n",
    "    y_points.append(x[0][1])\n",
    "    x_points.append(x[0][0])\n",
    "    con_points.append(add)"
   ]
  },
  {
   "cell_type": "markdown",
   "metadata": {},
   "source": [
    "## Finding actual cutting point of ROI\n",
    "Find the actual smallest and biggest X and Y from the contour."
   ]
  },
  {
   "cell_type": "code",
<<<<<<< HEAD
   "execution_count": 28,
=======
   "execution_count": 42,
>>>>>>> cef326851f4ec4923e2abf3c6758d468f8c52294
   "metadata": {},
   "outputs": [
    {
     "data": {
      "text/plain": [
<<<<<<< HEAD
       "(148, 233, 34, 64)"
      ]
     },
     "execution_count": 28,
=======
       "(75, 162, 24, 55)"
      ]
     },
     "execution_count": 42,
>>>>>>> cef326851f4ec4923e2abf3c6758d468f8c52294
     "metadata": {},
     "output_type": "execute_result"
    }
   ],
   "source": [
    "x_min_abs = x_points[np.argmin(x_points)]\n",
    "x_max_abs = x_points[np.argmax(x_points)]\n",
    "y_min_abs = y_points[np.argmin(y_points)]\n",
    "y_max_abs = y_points[np.argmax(y_points)]\n",
    "x_min_abs, x_max_abs, y_min_abs, y_max_abs"
   ]
  },
  {
   "cell_type": "markdown",
   "metadata": {},
   "source": [
    "## Slice out the license plate ROI"
   ]
  },
  {
   "cell_type": "code",
<<<<<<< HEAD
   "execution_count": 29,
=======
   "execution_count": 43,
>>>>>>> cef326851f4ec4923e2abf3c6758d468f8c52294
   "metadata": {},
   "outputs": [],
   "source": [
    "vlp_img = img[y_min_abs:y_max_abs, x_min_abs:x_max_abs]"
   ]
  },
  {
   "cell_type": "code",
<<<<<<< HEAD
   "execution_count": 30,
=======
   "execution_count": 44,
>>>>>>> cef326851f4ec4923e2abf3c6758d468f8c52294
   "metadata": {},
   "outputs": [
    {
     "data": {
      "text/plain": [
<<<<<<< HEAD
       "<matplotlib.image.AxesImage at 0x7f94857b4eb8>"
      ]
     },
     "execution_count": 30,
=======
       "<matplotlib.image.AxesImage at 0x7f333208a588>"
      ]
     },
     "execution_count": 44,
>>>>>>> cef326851f4ec4923e2abf3c6758d468f8c52294
     "metadata": {},
     "output_type": "execute_result"
    },
    {
     "data": {
<<<<<<< HEAD
      "image/png": "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\n",
=======
      "image/png": "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\n",
>>>>>>> cef326851f4ec4923e2abf3c6758d468f8c52294
      "text/plain": [
       "<Figure size 432x288 with 1 Axes>"
      ]
     },
     "metadata": {
      "needs_background": "light"
     },
     "output_type": "display_data"
    }
   ],
   "source": [
    "plt.imshow(vlp_img)"
   ]
  },
  {
   "cell_type": "markdown",
   "metadata": {},
   "source": [
    "Save final plate image locally"
   ]
  },
  {
   "cell_type": "code",
   "execution_count": null,
   "metadata": {},
   "outputs": [],
   "source": [
    "cv2.imwrite('/home/tunnel/'+plate.replace(' ', '') + '.jpg', vlp_img)"
   ]
  },
  {
   "cell_type": "markdown",
   "metadata": {},
   "source": [
    "## Data Augmentation: Image channel invert\n",
    "Malaysia license plate has white and black background"
   ]
  },
  {
   "cell_type": "code",
   "execution_count": null,
   "metadata": {},
   "outputs": [],
   "source": [
    "def img_color_invert(img):\n",
    "    seq = iaa.Sequential([iaa.Invert(1, per_channel=False)])\n",
    "    img1=np.transpose(img,(2,0,1))\n",
    "    img_aug1 = seq.augment_images(img1)\n",
    "    img_aug=np.transpose(img_aug1,(1,2,0))\n",
    "    return img_aug"
   ]
  },
  {
   "cell_type": "code",
   "execution_count": null,
   "metadata": {},
   "outputs": [],
   "source": [
<<<<<<< HEAD
    "vlp_img = img_color_invert(vlp_img)\n",
    "plt.imshow(vlp_img)"
   ]
  },
  {
   "cell_type": "markdown",
   "metadata": {},
   "source": [
    "## Singularity\n",
    "Cut the double line plate into single line"
   ]
  },
  {
   "cell_type": "code",
   "execution_count": 63,
   "metadata": {},
   "outputs": [],
   "source": [
    "def singular_dilate(img):\n",
    "    kernel = np.ones((2,2), np.uint8)\n",
    "    img_roi = cv2.dilate(img, kernel, iterations=7)\n",
    "    return img_roi"
   ]
  },
  {
   "cell_type": "code",
   "execution_count": 64,
   "metadata": {},
   "outputs": [
    {
     "data": {
      "text/plain": [
       "<matplotlib.image.AxesImage at 0x7f9485378be0>"
      ]
     },
     "execution_count": 64,
     "metadata": {},
     "output_type": "execute_result"
    },
    {
     "data": {
      "image/png": "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\n",
      "text/plain": [
       "<Figure size 432x288 with 1 Axes>"
      ]
     },
     "metadata": {
      "needs_background": "light"
     },
     "output_type": "display_data"
    }
   ],
   "source": [
    "vlp_img_roi = singular_dilate(vlp_img)\n",
    "plt.imshow(vlp_img_roi)"
   ]
  },
  {
   "cell_type": "code",
   "execution_count": 65,
   "metadata": {},
   "outputs": [],
   "source": [
    "vlp_imgray = cv2.cvtColor(vlp_img_roi, cv2.COLOR_BGR2GRAY)\n",
    "vlp_ret, vlp_thresh = cv2.threshold(vlp_imgray, 127, 255, cv2.THRESH_BINARY)\n",
    "vlp_contours, vlp_hierachy = cv2.findContours(vlp_thresh, cv2.RETR_TREE, cv2.CHAIN_APPROX_SIMPLE)"
   ]
  },
  {
   "cell_type": "code",
   "execution_count": 66,
   "metadata": {},
   "outputs": [
    {
     "data": {
      "text/plain": [
       "[array([[[ 8,  7]],\n",
       " \n",
       "        [[ 8, 17]],\n",
       " \n",
       "        [[ 7, 18]],\n",
       " \n",
       "        [[ 7, 26]],\n",
       " \n",
       "        [[ 8, 27]],\n",
       " \n",
       "        [[ 8, 28]],\n",
       " \n",
       "        [[49, 28]],\n",
       " \n",
       "        [[49, 26]],\n",
       " \n",
       "        [[50, 25]],\n",
       " \n",
       "        [[54, 25]],\n",
       " \n",
       "        [[56, 27]],\n",
       " \n",
       "        [[56, 28]],\n",
       " \n",
       "        [[63, 28]],\n",
       " \n",
       "        [[64, 27]],\n",
       " \n",
       "        [[65, 28]],\n",
       " \n",
       "        [[65, 29]],\n",
       " \n",
       "        [[80, 29]],\n",
       " \n",
       "        [[80, 27]],\n",
       " \n",
       "        [[81, 26]],\n",
       " \n",
       "        [[81, 23]],\n",
       " \n",
       "        [[82, 22]],\n",
       " \n",
       "        [[82, 20]],\n",
       " \n",
       "        [[83, 19]],\n",
       " \n",
       "        [[83, 18]],\n",
       " \n",
       "        [[84, 17]],\n",
       " \n",
       "        [[84,  9]],\n",
       " \n",
       "        [[72,  9]],\n",
       " \n",
       "        [[71,  8]],\n",
       " \n",
       "        [[65,  8]],\n",
       " \n",
       "        [[64,  9]],\n",
       " \n",
       "        [[63,  9]],\n",
       " \n",
       "        [[62,  8]],\n",
       " \n",
       "        [[56,  8]],\n",
       " \n",
       "        [[54, 10]],\n",
       " \n",
       "        [[54, 11]],\n",
       " \n",
       "        [[52, 13]],\n",
       " \n",
       "        [[52, 14]],\n",
       " \n",
       "        [[51, 15]],\n",
       " \n",
       "        [[51, 16]],\n",
       " \n",
       "        [[50, 17]],\n",
       " \n",
       "        [[50, 21]],\n",
       " \n",
       "        [[49, 22]],\n",
       " \n",
       "        [[48, 21]],\n",
       " \n",
       "        [[48, 10]],\n",
       " \n",
       "        [[46,  8]],\n",
       " \n",
       "        [[20,  8]],\n",
       " \n",
       "        [[19,  7]]], dtype=int32), array([[[72, 17]],\n",
       " \n",
       "        [[73, 16]],\n",
       " \n",
       "        [[74, 17]],\n",
       " \n",
       "        [[73, 18]]], dtype=int32)]"
      ]
     },
     "execution_count": 66,
     "metadata": {},
     "output_type": "execute_result"
    }
   ],
   "source": [
    "vlp_contours"
   ]
  },
  {
   "cell_type": "code",
   "execution_count": 67,
   "metadata": {},
   "outputs": [],
   "source": [
    "vlp_con = cv2.drawContours(vlp_img_roi, vlp_contours, -1, (0, 0, 255), 3)"
   ]
  },
  {
   "cell_type": "code",
   "execution_count": 68,
   "metadata": {},
   "outputs": [
    {
     "data": {
      "text/plain": [
       "<matplotlib.image.AxesImage at 0x7f94852d2940>"
      ]
     },
     "execution_count": 68,
     "metadata": {},
     "output_type": "execute_result"
    },
    {
     "data": {
      "image/png": "iVBORw0KGgoAAAANSUhEUgAAAXQAAACZCAYAAAA/zsG7AAAABHNCSVQICAgIfAhkiAAAAAlwSFlzAAALEgAACxIB0t1+/AAAADl0RVh0U29mdHdhcmUAbWF0cGxvdGxpYiB2ZXJzaW9uIDMuMC4zLCBodHRwOi8vbWF0cGxvdGxpYi5vcmcvnQurowAADSJJREFUeJzt3V+MXNV9wPHvz7teG4PBuLYs/0E1VV0iVDWQWuAoUUVDaN2oCi9VBaoqHpD8QlWoIjWmlSrlLZWqtHmoKqGGJqoi0jahBaGoKXGJqkQNwSSkMTgG2kCwvbBQNQVcY+/avz7MNZm5eD37Z+beu2e/H2k1c+5cz/157p3fnv2dM2ciM5EkrXxr2g5AkjQaJnRJKoQJXZIKYUKXpEKY0CWpECZ0SSqECV2SCmFCl6RCLCuhR8T+iDgWES9GxMFRBSVJWrxY6idFI2ICeB64DTgOPAXcmZnPjS48SdJCTS7j394EvJiZ/wUQEV8CbgfmTehr1qzJycnlHFKSVp/Z2dk3MnPrsP2Wk113Aq/0tY8DN1/yYJOTbNmyZRmHlKTVZ3p6+uWF7Df27nJEHAAOAExMTIz7cJK0ai1nUPQEcE1fe1e1bUBmPpCZezNz75o1TqqRpHFZToZ9CtgTEddGxBRwB/DoaMKSJC3WkksumTkXEb8HfA2YAB7MzGdHFpkkaVGWVUPPzK8CXx1RLJKkZbCoLUmFMKFLUiFM6JJUCBO6JBXChC5JhTChS1IhTOiSVAgTuiQVoui1bCOi7RAas9R17SWVwx66JBXChC5JhTChS1Ihiq6h1508+Z7l2leMHTt2th3Ckq2msYy6cY9trObXtk1dHbOyhy5JhTChS1IhTOiSVIiia+gruWZeV9L/pWRdG+to8roZ9n9v+hru2rlogj10SSqECV2SCmFCl6RCRJPzKaempnLLli1je/7p6ZNje25pKbZv3zHW56/PQ3espVTxdGbuHbaXPXRJKoQJXZIKYUKXpEIUPQ9dalt9XGfUNXVr5upnD12SCmFCl6RCmNAlqRArqobu2s9a6eo19WHrjdQ/J+JnLXQp9tAlqRBDE3pEPBgRMxFxpG/b5oh4PCJeqG6vHm+YkqRhFtJD/zywv7btIHAoM/cAh6q2JKlFQ2vomflvEbG7tvl24Jbq/heAbwCfHGFcrRv1Ejfnzp1b1P4TExMDbYcPylSfR16vqVsz12IstYa+LTOnq/uvAttGFI8kaYmWPcslMzMi5u3PRsQB4AC8t9cpSRqdpfbQX4uI7QDV7cx8O2bmA5m5NzP3rlnjpBpJGpel9tAfBe4CPl3dPjKyiHRRDS5bz9mzZwfaU1NTzR2842ZnZwfaU1NrW4pkacZ5HQ0b55mbW9w40nJNTq6+isBCpi0+BPw7cF1EHI+Iu+kl8tsi4gXgo1VbktSihcxyuXOeh24dcSySpGWwqC1JhVhRa7moGdbM2zPq9c2bHHs5cWJwzvymTZtqe6xrLhjg7NnZ4Tu1ZFxjL/bQJakQJnRJKoQJXZIKYQ1dKsj58/WiuYsArSb20CWpECZ0SSqECV2SCmENXdKqUJ/73eV56ktlD12SCmFCl6RCWHKZx9zc3Eifb7lfQdembPLz40D4fXsL9vbbp2pbNrQSRxcN+3h9iSUYe+iSVAgTuiQVwoQuSYWwht5Rw2r4k5PNnbrz5883diyA+nfPtllTr3/lXNOvhRZuuV85V6+pv/POmXfvr5TvQ14ZUUqShjKhS1IhTOiSVAhr6B116lR9fvGgq666qqFI3jsn/vTp04v69/W687DxgSuvvHJRz7+anDlztrZlPF9lNg6L/SzGMOvWjferEtev/+lX5vXX07vMHrokFcKELkmFMKFLUiFWdA395MkTI3uu2dnRrt2i+dXndq9du3LqwG2bmhpv3Xg5tm7dOtCemZm55OPLVR9PGHVNfXAJo3Xz7bYgTX2Uwh66JBXChC5JhTChS1IhVnQNXe2o17zr84vr885LWv+k9LXa6+MbozTudfXrc8X755EvRMPL/o+FPXRJKsTQhB4R10TEExHxXEQ8GxH3Vts3R8TjEfFCdXv1+MOVJM1nIT30OeATmXk9sA+4JyKuBw4ChzJzD3CoakuSWjK0hp6Z08B0df+tiDgK7ARuB26pdvsC8A3gk2OJchUatv7yW2+9NdDeuHHjOMMZsNg68pkzK2MdDJXl299+cqC9b9/NA+1x1szbGmpZVA09InYDNwJPAtuqZA/wKrBtpJFJkhZlwQk9Iq4AvgLcl5lv9j+WveHri/6+i4gDEXE4Ig6XNNtBkrpmQQk9ItbSS+ZfzMyHq82vRcT26vHtwMzF/m1mPpCZezNz70r5GidJWomG1tCjVzD9HHA0Mz/T99CjwF3Ap6vbR8YSYUPeeeedgfb69esH2vU1wRdbR17sd4CuWzc4h7ZeM19Jurz+iJrTdIeu/h46duz52h6/0FwwDVlIlvkQ8LvADyLimWrbH9FL5H8fEXcDLwO/PZ4QJUkLsZBZLt8E5uuO3jracCRJS2VRW5IK4Vou0jI0uya3lmPTpk1thzB29tAlqRAmdEkqhAldkgphDV2ds9w59/X5zk3Ogz99evDzDJddtn6ePRdmsWuCWHNvx6jXbtm+fcdAe3p6nh1r7KFLUiFM6JJUCBO6JBXCGrpGbm5urtXjd2lVz9dff2OgvXXrlrEer17Ltaa+uthDl6RCmNAlqRAmdEkqhDX0QtTnbm/YsKGlSCAt3L5r3DXzYeo19bffPjW2Y9XP+65dOwfaZ8/Oju3Y6rGHLkmFMKFLUiFM6JJUCGvolY0br2g7hCE2th3AJUzU2usuupfad8UVl7d27KmptQPttmvq586dG+Gz1d8D7bCHLkmFMKFLUiFM6JJUiBVdQ9+xY3Ce68mTJ1qKRNJi1Wvqo3fDmJ9/dOrrny+VPXRJKoQJXZIKYUKXpEKs6Bq6VLr6OFGd40bqZw9dkgphQpekQpjQJakQK6qGPmyd7fpczunpk+MMRxq5YTXzYftbU1/d7KFLUiFM6JJUCBO6JBUimvz+x4h4HXgZ2AK80diBF6fLsUG34zO2petyfF2ODbod36hi+9nM3Dpsp0YT+rsHjTicmXsbP/ACdDk26HZ8xrZ0XY6vy7FBt+NrOjZLLpJUCBO6JBWirYT+QEvHXYguxwbdjs/Ylq7L8XU5Nuh2fI3G1koNXZI0epZcJKkQjSb0iNgfEcci4sWIONjkseeJ58GImImII33bNkfE4xHxQnV7dUuxXRMRT0TEcxHxbETc25X4ImJ9RHwnIr5fxfapavu1EfFkdX7/LiKmmo6tFudERHwvIh7rUnwR8VJE/CAinomIw9W21s9rX3ybIuLLEfHDiDgaER/sQnwRcV31ml34eTMi7utCbFV8f1C9H45ExEPV+6TRa66xhB4RE8BfAr8BXA/cGRHXN3X8eXwe2F/bdhA4lJl7gENVuw1zwCcy83pgH3BP9Xp1Ib4zwEcy8/30vrhxf0TsA/4U+PPM/Hngf4C7W4it373A0b52l+L71cy8oW9KWxfO6wWfBf45M98HvJ/ea9h6fJl5rHrNbgB+Gfg/4B+7EFtE7AR+H9ibmb8ITAB30PQ1l5mN/AAfBL7W174fuL+p418irt3Akb72MWB7dX87cKztGKtYHgFu61p8wAbgu8DN9D5AMXmx891CXLvovbk/AjwGRFfiA14CttS2deK8AlcBP6IaX+tafH3x/Brwra7EBuwEXgE201v08DHg15u+5posuVz4D19wvNrWNdsyc7q6/yqwrc1gACJiN3Aj8CQdia8qZzwDzACPA/8J/CQz56pd2j6/fwH8IXC+av8M3YkvgX+JiKcj4kC1rRPnFbgWeB34m6pc9dcRcXmH4rvgDuCh6n7rsWXmCeDPgB8D08D/Ak/T8DXnoOglZO/XaqvTgCLiCuArwH2Z+Wb/Y23Gl5nnsven7y7gJuB9bcRxMRHxm8BMZj7ddizz+HBmfoBe+fGeiPiV/gdbvu4mgQ8Af5WZNwKnqJUw2n5fVHXojwP/UH+srdiquv3t9H4h7gAu573l3LFrMqGfAK7pa++qtnXNaxGxHaC6nWkrkIhYSy+ZfzEzH+5afACZ+RPgCXp/Tm6KiAtr7Ld5fj8EfDwiXgK+RK/s8lk6El/VmyMzZ+jVgG+iO+f1OHA8M5+s2l+ml+C7Eh/0fhF+NzNfq9pdiO2jwI8y8/XMnAUepncdNnrNNZnQnwL2VKO+U/T+ZHq0weMv1KPAXdX9u+jVrhsXEQF8DjiamZ/pe6j1+CJia0Rsqu5fRq+2f5ReYv+tNmMDyMz7M3NXZu6md539a2b+Thfii4jLI2Ljhfv0asFH6MB5BcjMV4FXIuK6atOtwHN0JL7Knfy03ALdiO3HwL6I2FC9dy+8bs1ecw0PHHwMeJ5evfWPmx64uEg8D9Grd83S65ncTa/Wegh4Afg6sLml2D5M70/H/wCeqX4+1oX4gF8CvlfFdgT4k2r7zwHfAV6k9+fwug6c41uAx7oSXxXD96ufZy+8D7pwXvtivAE4XJ3ffwKu7kp89EoZ/w1c1betK7F9Cvhh9Z74W2Bd09ecnxSVpEI4KCpJhTChS1IhTOiSVAgTuiQVwoQuSYUwoUtSIUzoklQIE7okFeL/AWCk0IFoLcOLAAAAAElFTkSuQmCC\n",
      "text/plain": [
       "<Figure size 432x288 with 1 Axes>"
      ]
     },
     "metadata": {
      "needs_background": "light"
     },
     "output_type": "display_data"
    }
   ],
   "source": [
    "plt.imshow(vlp_con)"
   ]
  },
  {
   "cell_type": "code",
   "execution_count": null,
   "metadata": {},
   "outputs": [],
   "source": [
    "def concat(rgb, h, w, c):\n",
    "        # smaller, the nearer\n",
    "        edge_compensate = 10\n",
    "        center_h = int(h/2)\n",
    "        h_px = int(h)\n",
    "        w_px = int(w)\n",
    "        top = rgb[0:center_h, 0:w_px]\n",
    "        bottom = rgb[center_h:h_px, 0:w_px]\n",
    "        if top.shape[0] > bottom.shape[0]:\n",
    "            diff = int(top.shape[0] - bottom.shape[0])\n",
    "            bottom = cv2.copyMakeBorder(bottom, diff, 0, 0, 0, cv2.BORDER_CONSTANT, value=(0, 0, 0))\n",
    "        elif bottom.shape[0] > top.shape[0]:\n",
    "            diff = int(bottom.shape[0] - top.shape[0])\n",
    "            top = cv2.copyMakeBorder(top, diff, 0, 0, 0, cv2.BORDER_CONSTANT, value=(0, 0, 0))\n",
    "        # print(top.shape, bottom.shape)\n",
    "        # print(h, w)\n",
    "        concat_img = np.concatenate((top, bottom), axis=1)\n",
    "        concat_h, concat_w, concat_c = concat_img.shape\n",
    "        center_concat_h = int(concat_h/2)\n",
    "        gray = cv2.cvtColor(concat_img, cv2.COLOR_BGR2GRAY)\n",
    "        _, bw_img = cv2.threshold(gray, 127, 255, cv2.THRESH_BINARY | cv2.THRESH_OTSU)\n",
    "        kernel_dilate = np.ones((3, 3), np.uint8)\n",
    "        dilate_img = cv2.dilate(bw_img, kernel_dilate, iterations=2)\n",
    "        concat_di_middle = dilate_img[center_concat_h:center_concat_h+1, 0:concat_w]\n",
    "        # normalize cv mat 255 to 1\n",
    "        concat_di_middle = cv2.normalize(concat_di_middle, None, alpha=0, beta=1, norm_type=cv2.NORM_MINMAX,\n",
    "                                         dtype=cv2.CV_32F)\n",
    "        left_edge = int((concat_w/2)-edge_compensate)\n",
    "        right_edge = int((concat_w/2)+edge_compensate)\n",
    "        white_contour = []\n",
    "        # convert cv mat to np array\n",
    "        concat_array = np.asarray(concat_di_middle[0], dtype=np.int8)\n",
    "        # find white contour location\n",
    "        for i, px in enumerate(concat_array):\n",
    "            if px == 1:\n",
    "                white_contour.append(i)\n",
    "                if len(white_contour) > 2:\n",
    "                    if (white_contour[-1] - white_contour[-2]) > 30:\n",
    "                        left_edge = white_contour[-2]\n",
    "                        right_edge = white_contour[-1]\n",
    "                        # print (white_contour[-1], white_contour[-2])\n",
    "        left = concat_img[0:concat_h, 0:left_edge+edge_compensate]\n",
    "        right = concat_img[0:concat_h, right_edge-edge_compensate:concat_w]\n",
    "        concat_img = np.concatenate((left, right), axis=1)\n",
    "        return concat_img"
   ]
  },
  {
   "cell_type": "code",
   "execution_count": null,
   "metadata": {},
   "outputs": [],
   "source": [
    "def vlp_contour_hunter(vlp_contours):\n",
    "    vlp_contour_dict = {}\n",
    "\n",
    "    for index, contour in enumerate(vlp_contours):\n",
    "        y_points = []\n",
    "        x_points = []\n",
    "        for point in contour:\n",
    "            y_points.append(point[0][1])\n",
    "            x_points.append(point[0][0])\n",
    "        vlp_contour_dict[str('y{}'.format(index))] = [int(i) for i in y_points]\n",
    "        vlp_contour_dict[str('x{}'.format(index))] = [int(i) for i in x_points]\n",
    "    print(vlp_contour_dict)\n",
    "    y0_max = vlp_contour_dict['y0'][np.argmax(vlp_contour_dict['y0'])]\n",
    "    x0_max = vlp_contour_dict['x0'][np.argmax(vlp_contour_dict['x0'])]\n",
    "    y1_min = vlp_contour_dict['y1'][np.argmin(vlp_contour_dict['y1'])]\n",
    "    x1_min = vlp_contour_dict['x1'][np.argmin(vlp_contour_dict['x1'])]\n",
    "#     decision_points = y0_max, x0_max, y1_min, x1_min\n",
    "    return y0_max, x0_max, y1_min, x1_min"
   ]
  },
  {
   "cell_type": "code",
   "execution_count": null,
   "metadata": {},
   "outputs": [],
   "source": [
    "def vlp_singularity(plate_img):\n",
    "    if plate_img is not None:\n",
    "        plate_H, plate_W, plate_C = plate_img.shape\n",
    "        if plate_W and plate_H > 0:\n",
    "            y0max, x0max, y1min, x1min = vlp_contour_hunter(vlp_contours)\n",
    "            print(y0max, x0max, y1min, x1min)\n",
    "            if y1min < y0max:\n",
    "                ocr_img = concat(plate_img, plate_H, plate_W, plate_C)\n",
    "            elif x0max < x1min:\n",
    "                ocr_img = plate_img\n",
    "#             else:\n",
    "#                 ocr_img = plate_img\n",
    "    return ocr_img\n",
    "                \n",
    "                "
   ]
  },
  {
   "cell_type": "code",
   "execution_count": null,
   "metadata": {},
   "outputs": [],
   "source": [
    "final_plate = vlp_singularity(vlp_img)\n",
    "plt.imshow(final_plate)"
=======
    "img = img_color_invert(img)\n",
    "plt.imshow(img)"
>>>>>>> cef326851f4ec4923e2abf3c6758d468f8c52294
   ]
  },
  {
   "cell_type": "code",
   "execution_count": null,
   "metadata": {},
   "outputs": [],
   "source": []
<<<<<<< HEAD
  },
  {
   "cell_type": "code",
   "execution_count": null,
   "metadata": {},
   "outputs": [],
   "source": []
=======
>>>>>>> cef326851f4ec4923e2abf3c6758d468f8c52294
  }
 ],
 "metadata": {
  "kernelspec": {
   "display_name": "Python 3",
   "language": "python",
   "name": "python3"
  },
  "language_info": {
   "codemirror_mode": {
    "name": "ipython",
    "version": 3
   },
   "file_extension": ".py",
   "mimetype": "text/x-python",
   "name": "python",
   "nbconvert_exporter": "python",
   "pygments_lexer": "ipython3",
   "version": "3.6.7"
  }
 },
 "nbformat": 4,
 "nbformat_minor": 2
}
